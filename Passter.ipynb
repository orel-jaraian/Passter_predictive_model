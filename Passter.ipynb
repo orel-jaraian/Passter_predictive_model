{
  "nbformat": 4,
  "nbformat_minor": 0,
  "metadata": {
    "colab": {
      "provenance": []
    },
    "kernelspec": {
      "name": "python3",
      "display_name": "Python 3"
    },
    "language_info": {
      "name": "python"
    }
  },
  "cells": [
    {
      "cell_type": "code",
      "execution_count": null,
      "metadata": {
        "id": "Pwb8duuDXLkC"
      },
      "outputs": [],
      "source": [
        "import pandas as pd\n",
        "from sklearn.preprocessing import LabelEncoder\n",
        "from google.colab import drive\n",
        "from sklearn.tree import DecisionTreeClassifier\n",
        "from sklearn.model_selection import train_test_split\n",
        "from sklearn import metrics\n",
        "import numpy as np\n",
        "import requests\n",
        "from sklearn.ensemble import RandomForestClassifier\n",
        "from sklearn.metrics import accuracy_score, recall_score\n",
        "from sklearn.metrics import confusion_matrix"
      ]
    },
    {
      "cell_type": "markdown",
      "source": [
        "# Loading data"
      ],
      "metadata": {
        "id": "6lRQQ2fbXU8H"
      }
    },
    {
      "cell_type": "code",
      "source": [
        "drive.mount('/content/drive')\n",
        "\n",
        "# Set the path to your Excel file\n",
        "file_path = '/content/drive/My Drive/data/data_3.xlsx'\n",
        "file_path2 = '/content/drive/My Drive/data/More_Info_Shbach.xlsx'\n",
        "\n",
        "# Load the Excel file into a Pandas DataFrame\n",
        "excel_file = pd.read_excel(file_path, sheet_name=None)\n",
        "excel_file_Shbach = pd.read_excel(file_path2, sheet_name=None)\n",
        "\n",
        "sheet1_data = excel_file['Sheet1']\n",
        "sheet2_data = excel_file['Sheet2']\n",
        "df_all = pd.concat([sheet1_data, sheet2_data])\n",
        "\n",
        "df_Shbach = excel_file_Shbach['Sheet1']\n",
        "\n",
        "df = pd.concat([df_all, df_Shbach])"
      ],
      "metadata": {
        "colab": {
          "base_uri": "https://localhost:8080/"
        },
        "id": "dZrIsY60XZV3",
        "outputId": "9e88cc13-0696-4355-e68e-569ef8044467"
      },
      "execution_count": null,
      "outputs": [
        {
          "output_type": "stream",
          "name": "stdout",
          "text": [
            "Mounted at /content/drive\n"
          ]
        }
      ]
    },
    {
      "cell_type": "code",
      "source": [
        "df.shape"
      ],
      "metadata": {
        "colab": {
          "base_uri": "https://localhost:8080/"
        },
        "id": "9-RlT5BiX8B2",
        "outputId": "1ec4174c-e27c-47cb-bc78-d246425a8b8e"
      },
      "execution_count": null,
      "outputs": [
        {
          "output_type": "execute_result",
          "data": {
            "text/plain": [
              "(1676669, 23)"
            ]
          },
          "metadata": {},
          "execution_count": 3
        }
      ]
    },
    {
      "cell_type": "code",
      "source": [
        "df.info()"
      ],
      "metadata": {
        "colab": {
          "base_uri": "https://localhost:8080/"
        },
        "id": "meFIwuVpX-SP",
        "outputId": "9abc6a3b-72da-483e-9ec3-e0179f404821"
      },
      "execution_count": null,
      "outputs": [
        {
          "output_type": "stream",
          "name": "stdout",
          "text": [
            "<class 'pandas.core.frame.DataFrame'>\n",
            "Int64Index: 1676669 entries, 0 to 473241\n",
            "Data columns (total 23 columns):\n",
            " #   Column                    Non-Null Count    Dtype         \n",
            "---  ------                    --------------    -----         \n",
            " 0   P_ID                      1676669 non-null  int64         \n",
            " 1   S_ID                      1676669 non-null  int64         \n",
            " 2   Entry_Date                1676669 non-null  datetime64[ns]\n",
            " 3   Departure_Date            1676669 non-null  object        \n",
            " 4   Visa_Type                 1676669 non-null  object        \n",
            " 5   EFather_Name              596758 non-null   object        \n",
            " 6   HFather_Name              1203427 non-null  object        \n",
            " 7   Hmother_Name              1203425 non-null  object        \n",
            " 8   Country_code              1673023 non-null  object        \n",
            " 9   Country_english_L         1676490 non-null  object        \n",
            " 10  Country_english_U         1676490 non-null  object        \n",
            " 11  Country                   1676669 non-null  object        \n",
            " 12  Visa_requirement          1676669 non-null  object        \n",
            " 13  Number_passport           1676669 non-null  int64         \n",
            " 14  Passport_expiration_date  1676669 non-null  object        \n",
            " 15  First_name                1203343 non-null  object        \n",
            " 16  Last_name                 1203383 non-null  object        \n",
            " 17  Gender                    1676669 non-null  object        \n",
            " 18  Country_birth             1676669 non-null  object        \n",
            " 19  Date_birth                1676669 non-null  object        \n",
            " 20  Personal_situation        1676669 non-null  object        \n",
            " 21  If_show_improper          1676669 non-null  object        \n",
            " 22  Shows                     1676669 non-null  object        \n",
            "dtypes: datetime64[ns](1), int64(3), object(19)\n",
            "memory usage: 307.0+ MB\n"
          ]
        }
      ]
    },
    {
      "cell_type": "markdown",
      "source": [
        "# Data cleaning"
      ],
      "metadata": {
        "id": "H1CVQ5ClYANL"
      }
    },
    {
      "cell_type": "code",
      "source": [
        "df = df.replace(\"לא רשום\",\"unknown\")\n",
        "df = df.replace(\"לא ידוע\",\"unknown\")\n",
        "df = df.replace('ארץ לא ברורה )ב\"ג(',\"unknown\")\n",
        "df = df.replace('ארץ לא מוגדרת )ב\"ג(',\"unknown\")\n",
        "df = df.replace('אחר',\"unknown\")\n",
        "df = df.replace('-',\"unknown\")\n",
        "df = df.replace('בבירור',\"unknown\")\n",
        "df = df.replace(\"גרוזיה\",\"גאורגיה\")\n",
        "df = df.replace('שאר ארצות אסיה',\"אסיה לא ידוע\")"
      ],
      "metadata": {
        "id": "ElyhUsE5YCVr"
      },
      "execution_count": null,
      "outputs": []
    },
    {
      "cell_type": "markdown",
      "source": [
        "Download missing values:"
      ],
      "metadata": {
        "id": "_STz2m7mYmfU"
      }
    },
    {
      "cell_type": "code",
      "source": [
        "df_filtered = df[df['Country'] != 'unknown']\n",
        "df_filtered = df_filtered[df_filtered['Date_birth'] != 'unknown']\n",
        "df_filtered = df_filtered[df_filtered['Date_birth'] != '11/11/1111']"
      ],
      "metadata": {
        "id": "3O5Rg8vDYGVS"
      },
      "execution_count": null,
      "outputs": []
    },
    {
      "cell_type": "markdown",
      "source": [
        "Download duplicates:"
      ],
      "metadata": {
        "id": "yx8riRw9Y3Cn"
      }
    },
    {
      "cell_type": "code",
      "source": [
        "df_unit_no_dup = df_filtered.drop_duplicates(subset=['Entry_Date', 'Departure_Date', 'Date_birth','Country'])\n",
        "df_filtered = df_unit_no_dup"
      ],
      "metadata": {
        "id": "VWzowK5AYtpz"
      },
      "execution_count": null,
      "outputs": []
    },
    {
      "cell_type": "markdown",
      "source": [
        "#Creating features"
      ],
      "metadata": {
        "id": "YYtwqgZMZKvI"
      }
    },
    {
      "cell_type": "markdown",
      "source": [
        "## Functions"
      ],
      "metadata": {
        "id": "yD5d4R6sZR3P"
      }
    },
    {
      "cell_type": "code",
      "source": [
        "#----------------------above_90-----------------\n",
        "def above_90_df(row):\n",
        "    if not pd.isna(row['time_in']):\n",
        "      val = row['time_in']\n",
        "      return (int(float(val)) > 90)  & (row['If_show_improper'] == 'כן')\n",
        "    elif row['If_show_improper'] == 'כן':\n",
        "      pid = row['P_ID']\n",
        "      other_rows = df_filtered.loc[(df_filtered['P_ID'] == pid) & (~df_filtered['time_in'].isna())]\n",
        "      if other_rows.empty or (other_rows['time_in'].astype(float) <= 90).all():\n",
        "          return True\n",
        "    return False\n",
        "\n",
        "#-------------------GDP----------------\n",
        "\n",
        "# Set API parameters\n",
        "url = 'https://api.worldbank.org/v2/country/'\n",
        "indicator = 'NY.GDP.PCAP.CD'\n",
        "format = 'json'\n",
        "\n",
        "# Set pagination parameters\n",
        "page = 1\n",
        "per_page = 500\n",
        "# Initialize list to store GDP per capita data for all countries\n",
        "gdp_data = []\n",
        "# Retrieve GDP per capita data for all countries\n",
        "while True:\n",
        "    # Construct API endpoint\n",
        "    endpoint = f\"{url}all/indicator/{indicator}?format={format}&per_page={per_page}&page={page}\"\n",
        "    # Make HTTP GET request to API endpoint\n",
        "    response = requests.get(endpoint)\n",
        "    # Get JSON response data\n",
        "    data = response.json()[1]\n",
        "    # Stop looping if no more data is available\n",
        "    if not data:\n",
        "        break\n",
        "    # Append GDP per capita data to list\n",
        "    gdp_data.extend(data)\n",
        "    # Move to next page\n",
        "    page += 1\n",
        "# Convert list to pandas DataFrame\n",
        "df_GDP = pd.DataFrame(gdp_data)\n",
        "\n",
        "gdp_dict = {}\n",
        "\n",
        "def get_gdp(row):\n",
        "    country_code = row['Country_code']\n",
        "    year = str(row['Entry_Date'].year)\n",
        "\n",
        "    # Check if the year is 2022 or 2023\n",
        "    if year in ['2022', '2023']:\n",
        "        year = '2021'  # Set year to 2021\n",
        "\n",
        "    if country_code in gdp_dict:\n",
        "        if year in gdp_dict[country_code]:\n",
        "            return gdp_dict[country_code][year]\n",
        "\n",
        "    gdp = df_GDP[(df_GDP['countryiso3code'] == country_code) &\n",
        "                 (df_GDP['date'] == year)]\n",
        "\n",
        "    if len(gdp) > 0:\n",
        "        value = gdp['value'].values[0]\n",
        "        if country_code not in gdp_dict:\n",
        "            gdp_dict[country_code] = {}\n",
        "        gdp_dict[country_code][year] = value\n",
        "        return value\n",
        "    else:\n",
        "        return None\n",
        "\n",
        "#-----------------continent------------------\n",
        "!pip install pycountry-convert\n",
        "\n",
        "import pycountry_convert as pc\n",
        "\n",
        "# Define a function to map countries to continents\n",
        "def get_continent(country_name):\n",
        "    try:\n",
        "        country_alpha2 = pc.country_name_to_country_alpha2(country_name)\n",
        "        continent_code = pc.country_alpha2_to_continent_code(country_alpha2)\n",
        "        continent_name = pc.convert_continent_code_to_continent_name(continent_code)\n",
        "        return continent_name\n",
        "    except:\n",
        "        return None\n",
        "\n",
        "#-------------------HDI----FEATURES---------------\n",
        "df_hdi = pd.read_csv('hdi.csv')\n",
        "df_features = pd.read_excel('features.xlsx')\n",
        "# df_Disaster = pd.read_excel('emdat_public.xlsx')"
      ],
      "metadata": {
        "colab": {
          "base_uri": "https://localhost:8080/"
        },
        "id": "iJM1lcstY9m6",
        "outputId": "43a75dee-3a45-46f3-e272-883687628ddc"
      },
      "execution_count": null,
      "outputs": [
        {
          "output_type": "stream",
          "name": "stdout",
          "text": [
            "Looking in indexes: https://pypi.org/simple, https://us-python.pkg.dev/colab-wheels/public/simple/\n",
            "Collecting pycountry-convert\n",
            "  Downloading pycountry_convert-0.7.2-py3-none-any.whl (13 kB)\n",
            "Collecting pprintpp>=0.3.0 (from pycountry-convert)\n",
            "  Downloading pprintpp-0.4.0-py2.py3-none-any.whl (16 kB)\n",
            "Collecting pycountry>=16.11.27.1 (from pycountry-convert)\n",
            "  Downloading pycountry-22.3.5.tar.gz (10.1 MB)\n",
            "\u001b[2K     \u001b[90m━━━━━━━━━━━━━━━━━━━━━━━━━━━━━━━━━━━━━━━━\u001b[0m \u001b[32m10.1/10.1 MB\u001b[0m \u001b[31m46.4 MB/s\u001b[0m eta \u001b[36m0:00:00\u001b[0m\n",
            "\u001b[?25h  Installing build dependencies ... \u001b[?25l\u001b[?25hdone\n",
            "  Getting requirements to build wheel ... \u001b[?25l\u001b[?25hdone\n",
            "  Preparing metadata (pyproject.toml) ... \u001b[?25l\u001b[?25hdone\n",
            "Requirement already satisfied: pytest>=3.4.0 in /usr/local/lib/python3.10/dist-packages (from pycountry-convert) (7.2.2)\n",
            "Collecting pytest-mock>=1.6.3 (from pycountry-convert)\n",
            "  Downloading pytest_mock-3.10.0-py3-none-any.whl (9.3 kB)\n",
            "Collecting pytest-cov>=2.5.1 (from pycountry-convert)\n",
            "  Downloading pytest_cov-4.1.0-py3-none-any.whl (21 kB)\n",
            "Collecting repoze.lru>=0.7 (from pycountry-convert)\n",
            "  Downloading repoze.lru-0.7-py3-none-any.whl (10 kB)\n",
            "Requirement already satisfied: wheel>=0.30.0 in /usr/local/lib/python3.10/dist-packages (from pycountry-convert) (0.40.0)\n",
            "Requirement already satisfied: setuptools in /usr/local/lib/python3.10/dist-packages (from pycountry>=16.11.27.1->pycountry-convert) (67.7.2)\n",
            "Requirement already satisfied: attrs>=19.2.0 in /usr/local/lib/python3.10/dist-packages (from pytest>=3.4.0->pycountry-convert) (23.1.0)\n",
            "Requirement already satisfied: iniconfig in /usr/local/lib/python3.10/dist-packages (from pytest>=3.4.0->pycountry-convert) (2.0.0)\n",
            "Requirement already satisfied: packaging in /usr/local/lib/python3.10/dist-packages (from pytest>=3.4.0->pycountry-convert) (23.1)\n",
            "Requirement already satisfied: pluggy<2.0,>=0.12 in /usr/local/lib/python3.10/dist-packages (from pytest>=3.4.0->pycountry-convert) (1.0.0)\n",
            "Requirement already satisfied: exceptiongroup>=1.0.0rc8 in /usr/local/lib/python3.10/dist-packages (from pytest>=3.4.0->pycountry-convert) (1.1.1)\n",
            "Requirement already satisfied: tomli>=1.0.0 in /usr/local/lib/python3.10/dist-packages (from pytest>=3.4.0->pycountry-convert) (2.0.1)\n",
            "Collecting coverage[toml]>=5.2.1 (from pytest-cov>=2.5.1->pycountry-convert)\n",
            "  Downloading coverage-7.2.7-cp310-cp310-manylinux_2_5_x86_64.manylinux1_x86_64.manylinux_2_17_x86_64.manylinux2014_x86_64.whl (228 kB)\n",
            "\u001b[2K     \u001b[90m━━━━━━━━━━━━━━━━━━━━━━━━━━━━━━━━━━━━━━\u001b[0m \u001b[32m228.7/228.7 kB\u001b[0m \u001b[31m21.4 MB/s\u001b[0m eta \u001b[36m0:00:00\u001b[0m\n",
            "\u001b[?25hBuilding wheels for collected packages: pycountry\n",
            "  Building wheel for pycountry (pyproject.toml) ... \u001b[?25l\u001b[?25hdone\n",
            "  Created wheel for pycountry: filename=pycountry-22.3.5-py2.py3-none-any.whl size=10681832 sha256=9d32b9d23857b7f9e451ec68b1465eac24ece8ec92947bad2fdeee68571ac774\n",
            "  Stored in directory: /root/.cache/pip/wheels/03/57/cc/290c5252ec97a6d78d36479a3c5e5ecc76318afcb241ad9dbe\n",
            "Successfully built pycountry\n",
            "Installing collected packages: repoze.lru, pprintpp, pycountry, coverage, pytest-mock, pytest-cov, pycountry-convert\n",
            "Successfully installed coverage-7.2.7 pprintpp-0.4.0 pycountry-22.3.5 pycountry-convert-0.7.2 pytest-cov-4.1.0 pytest-mock-3.10.0 repoze.lru-0.7\n"
          ]
        }
      ]
    },
    {
      "cell_type": "markdown",
      "source": [
        "## Features"
      ],
      "metadata": {
        "id": "Ox5cwIIMZtyr"
      }
    },
    {
      "cell_type": "code",
      "source": [
        "df_filtered['Entry_Date'] = pd.to_datetime(df_filtered['Entry_Date'])\n",
        "df_filtered['Date_birth'] = pd.to_datetime(df_filtered['Date_birth'])\n",
        "\n",
        "#-------------------------age_in_enter------------------------\n",
        "df_filtered['age_in_enter'] = round((df_filtered['Entry_Date'] - df_filtered['Date_birth']).dt.days / 365)\n",
        "\n",
        "#-------------------------time_in------------------------------\n",
        "df_filtered['Departure_Date'] = pd.to_datetime(df_filtered['Departure_Date'], errors='coerce')\n",
        "df_filtered['Entry_Date'] = pd.to_datetime(df_filtered['Entry_Date'], errors='coerce')\n",
        "df_filtered['time_in'] = np.where(df_filtered['Departure_Date'].isna(), np.NAN, (df_filtered['Departure_Date'] - df_filtered['Entry_Date']).dt.days)\n",
        "#------------------------\n",
        "df_filtered = df_filtered.reset_index()\n",
        "\n",
        "#----------------------country_bir_eq_to_pass--------------------\n",
        "df_filtered['country_bir_eq_to_pass'] =  df_filtered['Country'] == df_filtered['Country_birth']\n",
        "df_filtered.loc[df_filtered['Country_birth'] == 'unknown', 'country_bir_eq_to_pass'] = True\n",
        "df_filtered.loc[(df_filtered['Country_birth'] == 'ברית המועצות') & (df_filtered['Country'].isin(['רוסיה', 'אוקראינה', 'מולדובה', 'אוזבקיסטן', 'גאורגיה', 'קזחסטאן', 'ארמניה', 'לטביה', 'תורכמניסטאן', 'ליטא', 'אסטוניה', 'בילורוסיה','אזרביג\\'אן'])), 'country_bir_eq_to_pass'] = True\n",
        "\n",
        "#-----------above_90-----------------\n",
        "df_filtered['above_90'] = df_filtered.apply(above_90_df, axis=1)\n",
        "\n",
        "#-------------------Interrogation-------------------\n",
        "df_filtered['Interrogation'] = False\n",
        "df_filtered.loc[df_filtered['Shows'].str.contains(\"תשאול\"), 'Interrogation'] = True\n",
        "\n",
        "#-------------------refugee-------------------\n",
        "df_filtered['refugee'] = False\n",
        "df_filtered.loc[df_filtered['Shows'].str.contains(\"מבקשי מקלט\"), 'refugee'] = True\n",
        "\n",
        "#-------------------month-------------------\n",
        "df_filtered['month'] = df_filtered['Entry_Date'].dt.month\n",
        "\n",
        "#-------------------year-------------------\n",
        "df_filtered['year'] = df_filtered['Entry_Date'].dt.year\n",
        "\n",
        "#---------------GDP-------------\n",
        "df_filtered['GDP'] = df_filtered.apply(get_gdp, axis=1)\n",
        "\n",
        "unique_values = df_filtered['GDP'].unique()\n",
        "mean_value = unique_values.mean()\n",
        "df_filtered['GDP'].replace([np.inf, -np.inf, np.nan], mean_value, inplace=True)\n",
        "\n",
        "#-------------continent-----------------------\n",
        "df_filtered['Country_english_upper'] = df_filtered['Country_english_L'].str.title()\n",
        "df_filtered['Country_english_upper'] = df_filtered['Country_english_upper'].replace('Usa', 'United States of America')\n",
        "df_filtered['Country_english_upper'] = df_filtered['Country_english_upper'].replace('Korea', 'South Korea')\n",
        "df_filtered['Country_english_upper'] = df_filtered['Country_english_upper'].replace('S Africa', 'Republic of South Africa')\n",
        "\n",
        "df_filtered['continent'] = df_filtered['Country_english_upper'].apply(get_continent)\n",
        "\n",
        "#-------------HDI-----------------\n",
        "df_filtered = df_filtered.merge(df_hdi[['Country Code', 'HDI']], left_on='Country_code', right_on='Country Code', how='left')\n",
        "df_filtered['HDI'] = df_filtered['HDI'].fillna(df_filtered['HDI'].mean())\n",
        "\n",
        "#------------features-----------\n",
        "df_filtered['Country_english_L'] = df_filtered['Country_english_L'].replace('russian federation', 'russia')\n",
        "df_filtered['Country_english_L'] = df_filtered['Country_english_L'].replace('s africa', 'south africa')\n",
        "\n",
        "df_features_unique = df_features.drop_duplicates(subset=['Country_sec'], keep='first')\n",
        "df_filtered['Security_threat_index'] = df_filtered['Country_english_L'].map(df_features_unique.set_index('Country_sec')['Security_threat_index'])\n",
        "df_features_unique = df_features.drop_duplicates(subset=['Country_demo'], keep='first')\n",
        "df_filtered['Quality_of_Democracy'] = df_filtered['Country_english_L'].map(df_features_unique.set_index('Country_demo')['Quality_of_Democracy'])\n",
        "df_features_unique = df_features.drop_duplicates(subset=['Country_den'], keep='first')\n",
        "df_filtered['Density'] = df_filtered['Country_english_L'].map(df_features_unique.set_index('Country_den')['Density'])\n",
        "\n",
        "unique_values = df_filtered['Density'].unique()\n",
        "mean_value = unique_values.mean()\n",
        "df_filtered['Density'] = df_filtered['Density'].fillna(mean_value)\n",
        "\n",
        "unique_values = df_filtered['Quality_of_Democracy'].unique()\n",
        "mean_value = unique_values.mean()\n",
        "df_filtered['Quality_of_Democracy'] = df_filtered['Quality_of_Democracy'].fillna(mean_value)\n",
        "\n",
        "unique_values = df_filtered['Security_threat_index'].unique()\n",
        "mean_value = unique_values.mean()\n",
        "df_filtered['Security_threat_index'] = df_filtered['Security_threat_index'].fillna(mean_value)\n"
      ],
      "metadata": {
        "id": "wUQRiGWKZ1LI"
      },
      "execution_count": null,
      "outputs": []
    },
    {
      "cell_type": "markdown",
      "source": [
        "## Future features"
      ],
      "metadata": {
        "id": "0BubD03iaCaf"
      }
    },
    {
      "cell_type": "code",
      "source": [
        "#------------------------num_visit-----------------------------\n",
        "# df_filtered['Entry_Date'] = pd.to_datetime(df_filtered['Entry_Date'])  # convert to datetime if necessary\n",
        "# df_filtered['num_visit'] = df_filtered.groupby('P_ID')['Entry_Date'].rank(method='dense', ascending=False) - df_filtered.groupby('P_ID')['Entry_Date'].rank(method='dense', ascending=True).iloc[-1] + 1\n",
        "# df_filtered['num_visit'] = df_filtered.groupby('P_ID')['num_visit'].apply(lambda x: x.max() - x)\n",
        "# df_filtered['num_visit'] = df_filtered['num_visit'].astype(int)\n",
        "\n",
        "#--------------avg_time_in-----------------\n",
        "# df_filtered['days_from_prev_visit'] = (df_filtered['Entry_Date'] - df_filtered.groupby('P_ID')['Departure_Date'].shift()).fillna(pd.Timedelta(0)).dt.total_seconds() / (24 * 60 * 60)\n",
        "# df_filtered['dup_time_in'] = df_filtered['time_in'].fillna(0)\n",
        "# df_filtered['dup_time_in'].fillna('missing', inplace=True)\n",
        "# cumsum = df_filtered.groupby('P_ID')['dup_time_in'].cumsum() - df_filtered['dup_time_in'].fillna(0)\n",
        "# cumcount = df_filtered.groupby('P_ID')['dup_time_in'].cumcount() - df_filtered['dup_time_in'].isna().cumsum()\n",
        "# df_filtered['avg_time_in'] = cumsum / cumcount.fillna(0)\n",
        "# df_filtered['avg_time_in'] = df_filtered['avg_time_in'].fillna(0)\n",
        "\n",
        "# df_filtered['avg_time_in'] = df_filtered.groupby('P_ID')['time_in'].rolling(window=2, min_periods=1).mean().reset_index(0, drop=True)\n"
      ],
      "metadata": {
        "id": "1vkLXjgFaF8d"
      },
      "execution_count": null,
      "outputs": []
    },
    {
      "cell_type": "markdown",
      "source": [
        "##last filter"
      ],
      "metadata": {
        "id": "_9hvWUjoaTGW"
      }
    },
    {
      "cell_type": "code",
      "source": [
        "df_filtered_15 = df_filtered[df_filtered['age_in_enter'] >= 15]"
      ],
      "metadata": {
        "id": "4vLazvUDaaVD"
      },
      "execution_count": null,
      "outputs": []
    },
    {
      "cell_type": "code",
      "source": [
        "df_filtered_15 = df_filtered_15.loc[~((df_filtered_15['above_90'] == False) & (df_filtered_15['Departure_Date'].isnull()))]"
      ],
      "metadata": {
        "id": "-MVCdq5nNrxH"
      },
      "execution_count": null,
      "outputs": []
    },
    {
      "cell_type": "markdown",
      "source": [
        "# population segmentation"
      ],
      "metadata": {
        "id": "_cFFmQkya79K"
      }
    },
    {
      "cell_type": "markdown",
      "source": [
        "filtter visa:"
      ],
      "metadata": {
        "id": "A3H9KV0qbCj7"
      }
    },
    {
      "cell_type": "code",
      "source": [
        "filtter_visa = ['ב/2', 'ב/1', 'ב/1 כללי','ב/2 קבוצתי']\n",
        "df = df_filtered_15[df_filtered_15['Visa_Type'].isin(filtter_visa)]"
      ],
      "metadata": {
        "id": "QOCm_xsAbAd0"
      },
      "execution_count": null,
      "outputs": []
    },
    {
      "cell_type": "markdown",
      "source": [
        "filltter 15 countres:"
      ],
      "metadata": {
        "id": "MhfVJmVwbW7T"
      }
    },
    {
      "cell_type": "code",
      "source": [
        "filtter_country_code = ['FJI','TUR', 'MDA','CHN','COL','IND','PHL','ROU','BRA','ETH','POL','SGS','NGA','RUS','UKR']\n",
        "df_t = df[df['Country_code'].isin(filtter_country_code)]\n",
        "\n",
        "## without filttred 15 countres - all countres:\n",
        "# df_t = df"
      ],
      "metadata": {
        "id": "tY4z4sNNbbhn"
      },
      "execution_count": null,
      "outputs": []
    },
    {
      "cell_type": "code",
      "source": [
        "# df_Disaster = pd.read_excel('emdat_public.xlsx')"
      ],
      "metadata": {
        "id": "XXnXpGkLl-zI"
      },
      "execution_count": null,
      "outputs": []
    },
    {
      "cell_type": "code",
      "source": [
        "# import datetime\n",
        "\n",
        "# df_t['Disaster'] = df_t.apply(lambda row: any(\n",
        "#     (df_Disaster['ISO'] == row['Country_code']) &\n",
        "#     (df_Disaster['Start Year'] == row['year']) &\n",
        "#     (df_Disaster['Start Month'] <= row['month']) &\n",
        "#     (\n",
        "#         (\n",
        "#             (df_Disaster['End Year'] == row['year']) &\n",
        "#             (df_Disaster['End Month'] >= row['month'])\n",
        "#         ) |\n",
        "#         (\n",
        "#             (df_Disaster['End Year'] > row['year']) |\n",
        "#             (\n",
        "#                 (df_Disaster['End Year'].isnull()) &\n",
        "#                 (df_Disaster['End Month'].isnull()) &\n",
        "#                 (datetime.datetime.now().year > row['year']) |\n",
        "#                 (\n",
        "#                     datetime.datetime.now().year == row['year'] and\n",
        "#                     datetime.datetime.now().month > row['month']\n",
        "#                 )\n",
        "#             )\n",
        "#         )\n",
        "#     )\n",
        "# ), axis=1)"
      ],
      "metadata": {
        "colab": {
          "base_uri": "https://localhost:8080/"
        },
        "id": "muGSrAaslVX1",
        "outputId": "2b2c8e01-2d07-4ced-ad5d-373262b6a1b5"
      },
      "execution_count": null,
      "outputs": [
        {
          "output_type": "stream",
          "name": "stderr",
          "text": [
            "<ipython-input-25-ea4e2091aa74>:3: SettingWithCopyWarning: \n",
            "A value is trying to be set on a copy of a slice from a DataFrame.\n",
            "Try using .loc[row_indexer,col_indexer] = value instead\n",
            "\n",
            "See the caveats in the documentation: https://pandas.pydata.org/pandas-docs/stable/user_guide/indexing.html#returning-a-view-versus-a-copy\n",
            "  df_t['Disaster'] = df_t.apply(lambda row: any(\n"
          ]
        }
      ]
    },
    {
      "cell_type": "code",
      "source": [
        "# df_t.loc[:,[\"month\",\"year\", \"Country_code\", \"Disaster\"]]"
      ],
      "metadata": {
        "colab": {
          "base_uri": "https://localhost:8080/",
          "height": 424
        },
        "id": "c7BxGxSClatm",
        "outputId": "e1ebbf28-ae50-4fc6-cf29-512323894df3"
      },
      "execution_count": null,
      "outputs": [
        {
          "output_type": "execute_result",
          "data": {
            "text/plain": [
              "         month  year Country_code  Disaster\n",
              "4            2  2018          PHL      True\n",
              "9           12  2018          NGA     False\n",
              "13          10  2018          UKR     False\n",
              "14          11  2018          PHL      True\n",
              "16           5  2018          IND      True\n",
              "...        ...   ...          ...       ...\n",
              "1663462     11  2022          MDA     False\n",
              "1663463     11  2022          MDA     False\n",
              "1663465      9  2022          RUS     False\n",
              "1663466      9  2022          RUS     False\n",
              "1663469     12  2022          PHL      True\n",
              "\n",
              "[453882 rows x 4 columns]"
            ],
            "text/html": [
              "\n",
              "  <div id=\"df-d1c37fcb-62ca-4a3f-a053-222c4d8ac17b\">\n",
              "    <div class=\"colab-df-container\">\n",
              "      <div>\n",
              "<style scoped>\n",
              "    .dataframe tbody tr th:only-of-type {\n",
              "        vertical-align: middle;\n",
              "    }\n",
              "\n",
              "    .dataframe tbody tr th {\n",
              "        vertical-align: top;\n",
              "    }\n",
              "\n",
              "    .dataframe thead th {\n",
              "        text-align: right;\n",
              "    }\n",
              "</style>\n",
              "<table border=\"1\" class=\"dataframe\">\n",
              "  <thead>\n",
              "    <tr style=\"text-align: right;\">\n",
              "      <th></th>\n",
              "      <th>month</th>\n",
              "      <th>year</th>\n",
              "      <th>Country_code</th>\n",
              "      <th>Disaster</th>\n",
              "    </tr>\n",
              "  </thead>\n",
              "  <tbody>\n",
              "    <tr>\n",
              "      <th>4</th>\n",
              "      <td>2</td>\n",
              "      <td>2018</td>\n",
              "      <td>PHL</td>\n",
              "      <td>True</td>\n",
              "    </tr>\n",
              "    <tr>\n",
              "      <th>9</th>\n",
              "      <td>12</td>\n",
              "      <td>2018</td>\n",
              "      <td>NGA</td>\n",
              "      <td>False</td>\n",
              "    </tr>\n",
              "    <tr>\n",
              "      <th>13</th>\n",
              "      <td>10</td>\n",
              "      <td>2018</td>\n",
              "      <td>UKR</td>\n",
              "      <td>False</td>\n",
              "    </tr>\n",
              "    <tr>\n",
              "      <th>14</th>\n",
              "      <td>11</td>\n",
              "      <td>2018</td>\n",
              "      <td>PHL</td>\n",
              "      <td>True</td>\n",
              "    </tr>\n",
              "    <tr>\n",
              "      <th>16</th>\n",
              "      <td>5</td>\n",
              "      <td>2018</td>\n",
              "      <td>IND</td>\n",
              "      <td>True</td>\n",
              "    </tr>\n",
              "    <tr>\n",
              "      <th>...</th>\n",
              "      <td>...</td>\n",
              "      <td>...</td>\n",
              "      <td>...</td>\n",
              "      <td>...</td>\n",
              "    </tr>\n",
              "    <tr>\n",
              "      <th>1663462</th>\n",
              "      <td>11</td>\n",
              "      <td>2022</td>\n",
              "      <td>MDA</td>\n",
              "      <td>False</td>\n",
              "    </tr>\n",
              "    <tr>\n",
              "      <th>1663463</th>\n",
              "      <td>11</td>\n",
              "      <td>2022</td>\n",
              "      <td>MDA</td>\n",
              "      <td>False</td>\n",
              "    </tr>\n",
              "    <tr>\n",
              "      <th>1663465</th>\n",
              "      <td>9</td>\n",
              "      <td>2022</td>\n",
              "      <td>RUS</td>\n",
              "      <td>False</td>\n",
              "    </tr>\n",
              "    <tr>\n",
              "      <th>1663466</th>\n",
              "      <td>9</td>\n",
              "      <td>2022</td>\n",
              "      <td>RUS</td>\n",
              "      <td>False</td>\n",
              "    </tr>\n",
              "    <tr>\n",
              "      <th>1663469</th>\n",
              "      <td>12</td>\n",
              "      <td>2022</td>\n",
              "      <td>PHL</td>\n",
              "      <td>True</td>\n",
              "    </tr>\n",
              "  </tbody>\n",
              "</table>\n",
              "<p>453882 rows × 4 columns</p>\n",
              "</div>\n",
              "      <button class=\"colab-df-convert\" onclick=\"convertToInteractive('df-d1c37fcb-62ca-4a3f-a053-222c4d8ac17b')\"\n",
              "              title=\"Convert this dataframe to an interactive table.\"\n",
              "              style=\"display:none;\">\n",
              "        \n",
              "  <svg xmlns=\"http://www.w3.org/2000/svg\" height=\"24px\"viewBox=\"0 0 24 24\"\n",
              "       width=\"24px\">\n",
              "    <path d=\"M0 0h24v24H0V0z\" fill=\"none\"/>\n",
              "    <path d=\"M18.56 5.44l.94 2.06.94-2.06 2.06-.94-2.06-.94-.94-2.06-.94 2.06-2.06.94zm-11 1L8.5 8.5l.94-2.06 2.06-.94-2.06-.94L8.5 2.5l-.94 2.06-2.06.94zm10 10l.94 2.06.94-2.06 2.06-.94-2.06-.94-.94-2.06-.94 2.06-2.06.94z\"/><path d=\"M17.41 7.96l-1.37-1.37c-.4-.4-.92-.59-1.43-.59-.52 0-1.04.2-1.43.59L10.3 9.45l-7.72 7.72c-.78.78-.78 2.05 0 2.83L4 21.41c.39.39.9.59 1.41.59.51 0 1.02-.2 1.41-.59l7.78-7.78 2.81-2.81c.8-.78.8-2.07 0-2.86zM5.41 20L4 18.59l7.72-7.72 1.47 1.35L5.41 20z\"/>\n",
              "  </svg>\n",
              "      </button>\n",
              "      \n",
              "  <style>\n",
              "    .colab-df-container {\n",
              "      display:flex;\n",
              "      flex-wrap:wrap;\n",
              "      gap: 12px;\n",
              "    }\n",
              "\n",
              "    .colab-df-convert {\n",
              "      background-color: #E8F0FE;\n",
              "      border: none;\n",
              "      border-radius: 50%;\n",
              "      cursor: pointer;\n",
              "      display: none;\n",
              "      fill: #1967D2;\n",
              "      height: 32px;\n",
              "      padding: 0 0 0 0;\n",
              "      width: 32px;\n",
              "    }\n",
              "\n",
              "    .colab-df-convert:hover {\n",
              "      background-color: #E2EBFA;\n",
              "      box-shadow: 0px 1px 2px rgba(60, 64, 67, 0.3), 0px 1px 3px 1px rgba(60, 64, 67, 0.15);\n",
              "      fill: #174EA6;\n",
              "    }\n",
              "\n",
              "    [theme=dark] .colab-df-convert {\n",
              "      background-color: #3B4455;\n",
              "      fill: #D2E3FC;\n",
              "    }\n",
              "\n",
              "    [theme=dark] .colab-df-convert:hover {\n",
              "      background-color: #434B5C;\n",
              "      box-shadow: 0px 1px 3px 1px rgba(0, 0, 0, 0.15);\n",
              "      filter: drop-shadow(0px 1px 2px rgba(0, 0, 0, 0.3));\n",
              "      fill: #FFFFFF;\n",
              "    }\n",
              "  </style>\n",
              "\n",
              "      <script>\n",
              "        const buttonEl =\n",
              "          document.querySelector('#df-d1c37fcb-62ca-4a3f-a053-222c4d8ac17b button.colab-df-convert');\n",
              "        buttonEl.style.display =\n",
              "          google.colab.kernel.accessAllowed ? 'block' : 'none';\n",
              "\n",
              "        async function convertToInteractive(key) {\n",
              "          const element = document.querySelector('#df-d1c37fcb-62ca-4a3f-a053-222c4d8ac17b');\n",
              "          const dataTable =\n",
              "            await google.colab.kernel.invokeFunction('convertToInteractive',\n",
              "                                                     [key], {});\n",
              "          if (!dataTable) return;\n",
              "\n",
              "          const docLinkHtml = 'Like what you see? Visit the ' +\n",
              "            '<a target=\"_blank\" href=https://colab.research.google.com/notebooks/data_table.ipynb>data table notebook</a>'\n",
              "            + ' to learn more about interactive tables.';\n",
              "          element.innerHTML = '';\n",
              "          dataTable['output_type'] = 'display_data';\n",
              "          await google.colab.output.renderOutput(dataTable, element);\n",
              "          const docLink = document.createElement('div');\n",
              "          docLink.innerHTML = docLinkHtml;\n",
              "          element.appendChild(docLink);\n",
              "        }\n",
              "      </script>\n",
              "    </div>\n",
              "  </div>\n",
              "  "
            ]
          },
          "metadata": {},
          "execution_count": 29
        }
      ]
    },
    {
      "cell_type": "markdown",
      "source": [
        "### Checking if the data distribution reflects the office report"
      ],
      "metadata": {
        "id": "yQruoMpqb2Py"
      }
    },
    {
      "cell_type": "markdown",
      "source": [
        "Deleting countries that do not have multiple records"
      ],
      "metadata": {
        "id": "MaNBPLXacGXf"
      }
    },
    {
      "cell_type": "code",
      "source": [
        "# # Get the number of samples for each class\n",
        "# class_counts = df_t['Country'].value_counts()\n",
        "\n",
        "# # Get the list of classes with at least 40 samples\n",
        "# valid_classes = class_counts[class_counts >= 3000].index.tolist()\n",
        "\n",
        "# # Filter the DataFrame to keep only the rows with valid classes\n",
        "# df_t = df_t[df_t['Country'].isin(valid_classes)]"
      ],
      "metadata": {
        "id": "KDlQlR3wbyJW"
      },
      "execution_count": null,
      "outputs": []
    },
    {
      "cell_type": "code",
      "source": [
        "df_check = df_t[df_t['above_90']==True]\n",
        "df_check.Country.value_counts()"
      ],
      "metadata": {
        "colab": {
          "base_uri": "https://localhost:8080/"
        },
        "id": "ID96JnhDcBht",
        "outputId": "cf36626d-12fc-4fed-d8cd-f078fe37677c"
      },
      "execution_count": null,
      "outputs": [
        {
          "output_type": "execute_result",
          "data": {
            "text/plain": [
              "אוקראינה     43684\n",
              "רוסיה        24695\n",
              "גאורגיה      12574\n",
              "הודו          9244\n",
              "פיליפינים     9163\n",
              "סין           6533\n",
              "מולדובה       6346\n",
              "רומניה        4181\n",
              "ברזיל         3909\n",
              "תורכיה        3567\n",
              "קולומביה      2678\n",
              "ניגריה        1717\n",
              "אתיופיה       1508\n",
              "פולין          849\n",
              "איי פיגי       679\n",
              "Name: Country, dtype: int64"
            ]
          },
          "metadata": {},
          "execution_count": 14
        }
      ]
    },
    {
      "cell_type": "markdown",
      "source": [
        "#Coding columns"
      ],
      "metadata": {
        "id": "YYj2BDgLcgCr"
      }
    },
    {
      "cell_type": "markdown",
      "source": [
        "###State Severity Rating:"
      ],
      "metadata": {
        "id": "W0bT6VmCco4w"
      }
    },
    {
      "cell_type": "code",
      "source": [
        "def create_bin_dan_country(country):\n",
        "    if country in ['רוסיה', 'אוקראינה']:\n",
        "        return 1\n",
        "    elif country in ['גאורגיה', 'ניגריה']:\n",
        "        return 2\n",
        "    elif country in ['פולין','אתיופיה','ברזיל','רומניה']:\n",
        "        return 3\n",
        "    elif country in ['פיליפינים','הודו','קולומביה']:\n",
        "        return 4\n",
        "    else:\n",
        "        return 5\n",
        "\n",
        "# use the apply function to create the new column\n",
        "df_t['Country_lab'] = df_t['Country'].apply(create_bin_dan_country)"
      ],
      "metadata": {
        "colab": {
          "base_uri": "https://localhost:8080/"
        },
        "id": "GKKji4yuckBm",
        "outputId": "9e295060-f4f4-42ae-9213-8a95e1ec20a2"
      },
      "execution_count": null,
      "outputs": [
        {
          "output_type": "stream",
          "name": "stderr",
          "text": [
            "<ipython-input-14-c1d39ec88727>:14: SettingWithCopyWarning: \n",
            "A value is trying to be set on a copy of a slice from a DataFrame.\n",
            "Try using .loc[row_indexer,col_indexer] = value instead\n",
            "\n",
            "See the caveats in the documentation: https://pandas.pydata.org/pandas-docs/stable/user_guide/indexing.html#returning-a-view-versus-a-copy\n",
            "  df_t['Country_lab'] = df_t['Country'].apply(create_bin_dan_country)\n"
          ]
        }
      ]
    },
    {
      "cell_type": "markdown",
      "source": [
        "###Distribution for use in the entire population:"
      ],
      "metadata": {
        "id": "o-cYpB_qc6_P"
      }
    },
    {
      "cell_type": "code",
      "source": [
        "# df_t['age_in_enter']= pd.cut(df_t['age_in_enter'], bins=20)\n",
        "# df_t['GDP']= pd.cut(df_t['GDP'], bins=35)\n",
        "# df_t['Security_threat_index']= pd.cut(df_t['Security_threat_index'], bins=39)\n",
        "# df_t['Density']= pd.cut(df_t['Density'], bins=60)\n",
        "# df_t['Quality_of_Democracy']= pd.cut(df_t['Quality_of_Democracy'], bins=42)\n",
        "# df_t['HDI']= pd.cut(df_t['HDI'], bins=7)"
      ],
      "metadata": {
        "id": "b2XCG6OWcxMa"
      },
      "execution_count": null,
      "outputs": []
    },
    {
      "cell_type": "markdown",
      "source": [
        "###Distribution for use in the problematic countries only:"
      ],
      "metadata": {
        "id": "dMTYV5oHc-fQ"
      }
    },
    {
      "cell_type": "code",
      "source": [
        "df_t['age_in_enter']= pd.cut(df_t['age_in_enter'], bins=10)\n",
        "df_t['GDP']= pd.cut(df_t['GDP'], bins=7)\n",
        "df_t['Security_threat_index']= pd.cut(df_t['Security_threat_index'], bins=7)\n",
        "df_t['Density']= pd.cut(df_t['Density'], bins=7)\n",
        "df_t['Quality_of_Democracy']= pd.cut(df_t['Quality_of_Democracy'], bins=7)\n",
        "df_t['HDI']= pd.cut(df_t['HDI'], bins=7)"
      ],
      "metadata": {
        "colab": {
          "base_uri": "https://localhost:8080/"
        },
        "id": "Esrs5sDldDrH",
        "outputId": "7ab4c281-86c9-4c6b-eeac-d5fba3a155f1"
      },
      "execution_count": null,
      "outputs": [
        {
          "output_type": "stream",
          "name": "stderr",
          "text": [
            "<ipython-input-15-9139628393e1>:1: SettingWithCopyWarning: \n",
            "A value is trying to be set on a copy of a slice from a DataFrame.\n",
            "Try using .loc[row_indexer,col_indexer] = value instead\n",
            "\n",
            "See the caveats in the documentation: https://pandas.pydata.org/pandas-docs/stable/user_guide/indexing.html#returning-a-view-versus-a-copy\n",
            "  df_t['age_in_enter']= pd.cut(df_t['age_in_enter'], bins=10)\n",
            "<ipython-input-15-9139628393e1>:2: SettingWithCopyWarning: \n",
            "A value is trying to be set on a copy of a slice from a DataFrame.\n",
            "Try using .loc[row_indexer,col_indexer] = value instead\n",
            "\n",
            "See the caveats in the documentation: https://pandas.pydata.org/pandas-docs/stable/user_guide/indexing.html#returning-a-view-versus-a-copy\n",
            "  df_t['GDP']= pd.cut(df_t['GDP'], bins=7)\n",
            "<ipython-input-15-9139628393e1>:3: SettingWithCopyWarning: \n",
            "A value is trying to be set on a copy of a slice from a DataFrame.\n",
            "Try using .loc[row_indexer,col_indexer] = value instead\n",
            "\n",
            "See the caveats in the documentation: https://pandas.pydata.org/pandas-docs/stable/user_guide/indexing.html#returning-a-view-versus-a-copy\n",
            "  df_t['Security_threat_index']= pd.cut(df_t['Security_threat_index'], bins=7)\n",
            "<ipython-input-15-9139628393e1>:4: SettingWithCopyWarning: \n",
            "A value is trying to be set on a copy of a slice from a DataFrame.\n",
            "Try using .loc[row_indexer,col_indexer] = value instead\n",
            "\n",
            "See the caveats in the documentation: https://pandas.pydata.org/pandas-docs/stable/user_guide/indexing.html#returning-a-view-versus-a-copy\n",
            "  df_t['Density']= pd.cut(df_t['Density'], bins=7)\n",
            "<ipython-input-15-9139628393e1>:5: SettingWithCopyWarning: \n",
            "A value is trying to be set on a copy of a slice from a DataFrame.\n",
            "Try using .loc[row_indexer,col_indexer] = value instead\n",
            "\n",
            "See the caveats in the documentation: https://pandas.pydata.org/pandas-docs/stable/user_guide/indexing.html#returning-a-view-versus-a-copy\n",
            "  df_t['Quality_of_Democracy']= pd.cut(df_t['Quality_of_Democracy'], bins=7)\n",
            "<ipython-input-15-9139628393e1>:6: SettingWithCopyWarning: \n",
            "A value is trying to be set on a copy of a slice from a DataFrame.\n",
            "Try using .loc[row_indexer,col_indexer] = value instead\n",
            "\n",
            "See the caveats in the documentation: https://pandas.pydata.org/pandas-docs/stable/user_guide/indexing.html#returning-a-view-versus-a-copy\n",
            "  df_t['HDI']= pd.cut(df_t['HDI'], bins=7)\n"
          ]
        }
      ]
    },
    {
      "cell_type": "markdown",
      "source": [
        "###Converting feature values ​​to numeric tags:"
      ],
      "metadata": {
        "id": "0rSGUJ64dK7_"
      }
    },
    {
      "cell_type": "code",
      "source": [
        "le = LabelEncoder()\n",
        "df_t['Country_bir_e'] = le.fit_transform(df_t['Country_birth'])\n",
        "df_t['Gender_e'] = le.fit_transform(df_t['Gender'])\n",
        "df_t['Personal_situation_e'] = le.fit_transform(df_t['Personal_situation'])\n",
        "df_t['country_bir_eq_to_pass_e'] = le.fit_transform(df_t['country_bir_eq_to_pass'])\n",
        "df_t['Visa_Type_e'] = le.fit_transform(df_t['Visa_Type'])\n",
        "df_t['Interrogation_e'] = le.fit_transform(df_t['Interrogation'])\n",
        "df_t['refugee_e'] = le.fit_transform(df_t['refugee'])\n",
        "df_t['Visa_requirement_e'] = le.fit_transform(df_t['Visa_requirement'])\n",
        "df_t['continent_e'] = le.fit_transform(df_t['continent'])\n",
        "df_t['age_in_enter_e'] = le.fit_transform(df_t['age_in_enter'])\n",
        "df_t['GDP_e'] = le.fit_transform(df_t['GDP'])\n",
        "df_t['Security_threat_index_e'] = le.fit_transform(df_t['Security_threat_index'])\n",
        "df_t['Density_e'] = le.fit_transform(df_t['Density'])\n",
        "df_t['Quality_of_Democracy_e'] = le.fit_transform(df_t['Quality_of_Democracy'])\n",
        "df_t['HDI_e'] = le.fit_transform(df_t['HDI'])\n",
        "# df_t['Disaster_e'] = le.fit_transform(df_t['Disaster'])"
      ],
      "metadata": {
        "colab": {
          "base_uri": "https://localhost:8080/"
        },
        "id": "ZbCILr4PdTDj",
        "outputId": "b250b577-4563-4f4b-cfae-92c457812f83"
      },
      "execution_count": null,
      "outputs": [
        {
          "output_type": "stream",
          "name": "stderr",
          "text": [
            "<ipython-input-16-c2c6f82c8704>:2: SettingWithCopyWarning: \n",
            "A value is trying to be set on a copy of a slice from a DataFrame.\n",
            "Try using .loc[row_indexer,col_indexer] = value instead\n",
            "\n",
            "See the caveats in the documentation: https://pandas.pydata.org/pandas-docs/stable/user_guide/indexing.html#returning-a-view-versus-a-copy\n",
            "  df_t['Country_bir_e'] = le.fit_transform(df_t['Country_birth'])\n",
            "<ipython-input-16-c2c6f82c8704>:3: SettingWithCopyWarning: \n",
            "A value is trying to be set on a copy of a slice from a DataFrame.\n",
            "Try using .loc[row_indexer,col_indexer] = value instead\n",
            "\n",
            "See the caveats in the documentation: https://pandas.pydata.org/pandas-docs/stable/user_guide/indexing.html#returning-a-view-versus-a-copy\n",
            "  df_t['Gender_e'] = le.fit_transform(df_t['Gender'])\n",
            "<ipython-input-16-c2c6f82c8704>:4: SettingWithCopyWarning: \n",
            "A value is trying to be set on a copy of a slice from a DataFrame.\n",
            "Try using .loc[row_indexer,col_indexer] = value instead\n",
            "\n",
            "See the caveats in the documentation: https://pandas.pydata.org/pandas-docs/stable/user_guide/indexing.html#returning-a-view-versus-a-copy\n",
            "  df_t['Personal_situation_e'] = le.fit_transform(df_t['Personal_situation'])\n",
            "<ipython-input-16-c2c6f82c8704>:5: SettingWithCopyWarning: \n",
            "A value is trying to be set on a copy of a slice from a DataFrame.\n",
            "Try using .loc[row_indexer,col_indexer] = value instead\n",
            "\n",
            "See the caveats in the documentation: https://pandas.pydata.org/pandas-docs/stable/user_guide/indexing.html#returning-a-view-versus-a-copy\n",
            "  df_t['country_bir_eq_to_pass_e'] = le.fit_transform(df_t['country_bir_eq_to_pass'])\n",
            "<ipython-input-16-c2c6f82c8704>:6: SettingWithCopyWarning: \n",
            "A value is trying to be set on a copy of a slice from a DataFrame.\n",
            "Try using .loc[row_indexer,col_indexer] = value instead\n",
            "\n",
            "See the caveats in the documentation: https://pandas.pydata.org/pandas-docs/stable/user_guide/indexing.html#returning-a-view-versus-a-copy\n",
            "  df_t['Visa_Type_e'] = le.fit_transform(df_t['Visa_Type'])\n",
            "<ipython-input-16-c2c6f82c8704>:7: SettingWithCopyWarning: \n",
            "A value is trying to be set on a copy of a slice from a DataFrame.\n",
            "Try using .loc[row_indexer,col_indexer] = value instead\n",
            "\n",
            "See the caveats in the documentation: https://pandas.pydata.org/pandas-docs/stable/user_guide/indexing.html#returning-a-view-versus-a-copy\n",
            "  df_t['Interrogation_e'] = le.fit_transform(df_t['Interrogation'])\n",
            "<ipython-input-16-c2c6f82c8704>:8: SettingWithCopyWarning: \n",
            "A value is trying to be set on a copy of a slice from a DataFrame.\n",
            "Try using .loc[row_indexer,col_indexer] = value instead\n",
            "\n",
            "See the caveats in the documentation: https://pandas.pydata.org/pandas-docs/stable/user_guide/indexing.html#returning-a-view-versus-a-copy\n",
            "  df_t['refugee_e'] = le.fit_transform(df_t['refugee'])\n",
            "<ipython-input-16-c2c6f82c8704>:9: SettingWithCopyWarning: \n",
            "A value is trying to be set on a copy of a slice from a DataFrame.\n",
            "Try using .loc[row_indexer,col_indexer] = value instead\n",
            "\n",
            "See the caveats in the documentation: https://pandas.pydata.org/pandas-docs/stable/user_guide/indexing.html#returning-a-view-versus-a-copy\n",
            "  df_t['Visa_requirement_e'] = le.fit_transform(df_t['Visa_requirement'])\n",
            "<ipython-input-16-c2c6f82c8704>:10: SettingWithCopyWarning: \n",
            "A value is trying to be set on a copy of a slice from a DataFrame.\n",
            "Try using .loc[row_indexer,col_indexer] = value instead\n",
            "\n",
            "See the caveats in the documentation: https://pandas.pydata.org/pandas-docs/stable/user_guide/indexing.html#returning-a-view-versus-a-copy\n",
            "  df_t['continent_e'] = le.fit_transform(df_t['continent'])\n",
            "<ipython-input-16-c2c6f82c8704>:11: SettingWithCopyWarning: \n",
            "A value is trying to be set on a copy of a slice from a DataFrame.\n",
            "Try using .loc[row_indexer,col_indexer] = value instead\n",
            "\n",
            "See the caveats in the documentation: https://pandas.pydata.org/pandas-docs/stable/user_guide/indexing.html#returning-a-view-versus-a-copy\n",
            "  df_t['age_in_enter_e'] = le.fit_transform(df_t['age_in_enter'])\n",
            "<ipython-input-16-c2c6f82c8704>:12: SettingWithCopyWarning: \n",
            "A value is trying to be set on a copy of a slice from a DataFrame.\n",
            "Try using .loc[row_indexer,col_indexer] = value instead\n",
            "\n",
            "See the caveats in the documentation: https://pandas.pydata.org/pandas-docs/stable/user_guide/indexing.html#returning-a-view-versus-a-copy\n",
            "  df_t['GDP_e'] = le.fit_transform(df_t['GDP'])\n",
            "<ipython-input-16-c2c6f82c8704>:13: SettingWithCopyWarning: \n",
            "A value is trying to be set on a copy of a slice from a DataFrame.\n",
            "Try using .loc[row_indexer,col_indexer] = value instead\n",
            "\n",
            "See the caveats in the documentation: https://pandas.pydata.org/pandas-docs/stable/user_guide/indexing.html#returning-a-view-versus-a-copy\n",
            "  df_t['Security_threat_index_e'] = le.fit_transform(df_t['Security_threat_index'])\n",
            "<ipython-input-16-c2c6f82c8704>:14: SettingWithCopyWarning: \n",
            "A value is trying to be set on a copy of a slice from a DataFrame.\n",
            "Try using .loc[row_indexer,col_indexer] = value instead\n",
            "\n",
            "See the caveats in the documentation: https://pandas.pydata.org/pandas-docs/stable/user_guide/indexing.html#returning-a-view-versus-a-copy\n",
            "  df_t['Density_e'] = le.fit_transform(df_t['Density'])\n",
            "<ipython-input-16-c2c6f82c8704>:15: SettingWithCopyWarning: \n",
            "A value is trying to be set on a copy of a slice from a DataFrame.\n",
            "Try using .loc[row_indexer,col_indexer] = value instead\n",
            "\n",
            "See the caveats in the documentation: https://pandas.pydata.org/pandas-docs/stable/user_guide/indexing.html#returning-a-view-versus-a-copy\n",
            "  df_t['Quality_of_Democracy_e'] = le.fit_transform(df_t['Quality_of_Democracy'])\n",
            "<ipython-input-16-c2c6f82c8704>:16: SettingWithCopyWarning: \n",
            "A value is trying to be set on a copy of a slice from a DataFrame.\n",
            "Try using .loc[row_indexer,col_indexer] = value instead\n",
            "\n",
            "See the caveats in the documentation: https://pandas.pydata.org/pandas-docs/stable/user_guide/indexing.html#returning-a-view-versus-a-copy\n",
            "  df_t['HDI_e'] = le.fit_transform(df_t['HDI'])\n"
          ]
        }
      ]
    },
    {
      "cell_type": "markdown",
      "source": [
        "# The model"
      ],
      "metadata": {
        "id": "HBlqwdpvddiR"
      }
    },
    {
      "cell_type": "markdown",
      "source": [
        "## division to train(50/50) + test(90/10)"
      ],
      "metadata": {
        "id": "3o3MVtEddh0h"
      }
    },
    {
      "cell_type": "code",
      "source": [
        "shbach = df_t[df_t['above_90']==True]\n",
        "no_shbach = df_t[df_t['above_90']==False]\n",
        "print(shbach.shape)\n",
        "print(no_shbach.shape)"
      ],
      "metadata": {
        "colab": {
          "base_uri": "https://localhost:8080/"
        },
        "id": "hmYi0X9jdf3B",
        "outputId": "8165091c-ebf2-4a82-d67a-a1b5096b5d17"
      },
      "execution_count": null,
      "outputs": [
        {
          "output_type": "stream",
          "name": "stdout",
          "text": [
            "(131327, 56)\n",
            "(322555, 56)\n"
          ]
        }
      ]
    },
    {
      "cell_type": "markdown",
      "source": [
        "calculte how to splite the data"
      ],
      "metadata": {
        "id": "l2ERoJ69hdmp"
      }
    },
    {
      "cell_type": "code",
      "source": [
        "probability = 0.1\n",
        "M_probability = 1 - probability\n",
        "size_test = 0.2\n",
        "\n",
        "x1 = int((shbach.shape[0]*2*size_test*probability)/(1- size_test+2*size_test*probability)) # The min in shbach\n",
        "x2 = int((2*probability*size_test*no_shbach.shape[0])/(1-size_test+M_probability*size_test*2))  # The min in no_shbach\n",
        "x = min(x1,x2)\n",
        "y = int((x/probability)*M_probability)\n",
        "half = int((x/probability)/size_test-(x/probability))/2\n",
        "print(x,y, x2)\n",
        "print(half)\n",
        "\n",
        "stat1 = (x+half)/shbach.shape[0]\n",
        "if stat1 > 0.9998:\n",
        "  stat1 = 0.9998\n",
        "stat2 = x/(x+half)\n",
        "stat3 = (y+half)/no_shbach.shape[0]\n",
        "if stat3 > 0.9998:\n",
        "  stat3 = 0.9998\n",
        "stat4 = y/(y+half)\n",
        "print(stat1, stat2)\n",
        "print(stat3, stat4)"
      ],
      "metadata": {
        "id": "REm8SxxkdWaF",
        "colab": {
          "base_uri": "https://localhost:8080/"
        },
        "outputId": "c5d1c300-d5ca-4741-d2a7-e137233cfe97"
      },
      "execution_count": null,
      "outputs": [
        {
          "output_type": "stream",
          "name": "stdout",
          "text": [
            "6253 56277 11122\n",
            "125060.0\n",
            "0.9998 0.047619047619047616\n",
            "0.5621893940568276 0.3103448275862069\n"
          ]
        }
      ]
    },
    {
      "cell_type": "code",
      "source": [
        "from sklearn.model_selection import train_test_split\n",
        "not_for_model, for_model = train_test_split(shbach, test_size=stat1, stratify=shbach['Country'])\n",
        "train_sh, test_sh = train_test_split(for_model, test_size=stat2, stratify=for_model['Country'])\n",
        "not_for_model_1, for_model_1 = train_test_split(no_shbach, test_size=stat3, stratify=no_shbach['Country'])\n",
        "train_no_sh, test_no_sh = train_test_split(for_model_1, test_size=stat4, stratify=for_model_1['Country'])\n",
        "train_df = pd.concat([train_sh,train_no_sh])\n",
        "test_df = pd.concat([test_sh,test_no_sh])\n",
        "print(for_model.shape)\n",
        "print(test_sh.shape)\n",
        "print(for_model_1.shape)\n",
        "print(test_no_sh.shape)"
      ],
      "metadata": {
        "colab": {
          "base_uri": "https://localhost:8080/"
        },
        "id": "Xuyzyll3dueA",
        "outputId": "b762f691-c0c8-46b8-d66f-178ad3234f1a"
      },
      "execution_count": null,
      "outputs": [
        {
          "output_type": "stream",
          "name": "stdout",
          "text": [
            "(131301, 56)\n",
            "(6253, 56)\n",
            "(181337, 56)\n",
            "(56277, 56)\n"
          ]
        }
      ]
    },
    {
      "cell_type": "markdown",
      "source": [
        "##RF model"
      ],
      "metadata": {
        "id": "nYE-T-tod4rU"
      }
    },
    {
      "cell_type": "markdown",
      "source": [
        "No cross validation"
      ],
      "metadata": {
        "id": "goyG2p_nietb"
      }
    },
    {
      "cell_type": "code",
      "source": [
        "# # Define the list of features to use in the model\n",
        "# featues_list = ['Country_lab', 'country_bir_eq_to_pass','Country_bir_e', 'Personal_situation_e', 'age_in_enter_e', 'Visa_Type_e', 'refugee_e', 'month', 'Visa_requirement_e','GDP_e','HDI_e', 'Security_threat_index_e', 'Quality_of_Democracy_e','continent_e', 'Density_e']\n",
        "# #'Disaster_e',  'Gender_e',\n",
        "# # Train a Random Forest classifier with 50 estimators\n",
        "# rf = RandomForestClassifier(n_estimators=150, random_state=42)\n",
        "# rf.fit(train_df[featues_list], train_df[\"above_90\"].values)\n",
        "\n",
        "# # Predict the target variable on the test set\n",
        "# prob_predictions = rf.predict_proba(test_df[featues_list])\n",
        "# threshold_predictions = np.where(prob_predictions[:,1] > 0.3, 1, 0)\n",
        "\n",
        "# # Compute the accuracy and recall scores\n",
        "# accuracy = accuracy_score(test_df[\"above_90\"].values, threshold_predictions)\n",
        "# recall = recall_score(test_df[\"above_90\"].values, threshold_predictions)\n",
        "\n",
        "# # Calculate the confusion matrix\n",
        "# cm = confusion_matrix(test_df[\"above_90\"].values, threshold_predictions)\n",
        "\n",
        "# # Print the confusion matrix\n",
        "# print(\"Confusion Matrix:\")\n",
        "# print(cm)\n",
        "\n",
        "# # Print the scores\n",
        "# print(f\"Accuracy: {accuracy}\")\n",
        "# print(f\"Recall: {recall}\")"
      ],
      "metadata": {
        "colab": {
          "base_uri": "https://localhost:8080/",
          "height": 519
        },
        "id": "7QsuC4t0d7ld",
        "outputId": "a5933caf-d600-426c-8606-3447a5379724"
      },
      "execution_count": null,
      "outputs": [
        {
          "output_type": "error",
          "ename": "ValueError",
          "evalue": "ignored",
          "traceback": [
            "\u001b[0;31m---------------------------------------------------------------------------\u001b[0m",
            "\u001b[0;31mTypeError\u001b[0m                                 Traceback (most recent call last)",
            "\u001b[0;32m/usr/local/lib/python3.10/dist-packages/pandas/core/arrays/interval.py\u001b[0m in \u001b[0;36mastype\u001b[0;34m(self, dtype, copy)\u001b[0m\n\u001b[1;32m    941\u001b[0m             \u001b[0;32mtry\u001b[0m\u001b[0;34m:\u001b[0m\u001b[0;34m\u001b[0m\u001b[0;34m\u001b[0m\u001b[0m\n\u001b[0;32m--> 942\u001b[0;31m                 \u001b[0;32mreturn\u001b[0m \u001b[0msuper\u001b[0m\u001b[0;34m(\u001b[0m\u001b[0;34m)\u001b[0m\u001b[0;34m.\u001b[0m\u001b[0mastype\u001b[0m\u001b[0;34m(\u001b[0m\u001b[0mdtype\u001b[0m\u001b[0;34m,\u001b[0m \u001b[0mcopy\u001b[0m\u001b[0;34m=\u001b[0m\u001b[0mcopy\u001b[0m\u001b[0;34m)\u001b[0m\u001b[0;34m\u001b[0m\u001b[0;34m\u001b[0m\u001b[0m\n\u001b[0m\u001b[1;32m    943\u001b[0m             \u001b[0;32mexcept\u001b[0m \u001b[0;34m(\u001b[0m\u001b[0mTypeError\u001b[0m\u001b[0;34m,\u001b[0m \u001b[0mValueError\u001b[0m\u001b[0;34m)\u001b[0m \u001b[0;32mas\u001b[0m \u001b[0merr\u001b[0m\u001b[0;34m:\u001b[0m\u001b[0;34m\u001b[0m\u001b[0;34m\u001b[0m\u001b[0m\n",
            "\u001b[0;32m/usr/local/lib/python3.10/dist-packages/pandas/core/arrays/base.py\u001b[0m in \u001b[0;36mastype\u001b[0;34m(self, dtype, copy)\u001b[0m\n\u001b[1;32m    609\u001b[0m \u001b[0;34m\u001b[0m\u001b[0m\n\u001b[0;32m--> 610\u001b[0;31m         \u001b[0;32mreturn\u001b[0m \u001b[0mnp\u001b[0m\u001b[0;34m.\u001b[0m\u001b[0marray\u001b[0m\u001b[0;34m(\u001b[0m\u001b[0mself\u001b[0m\u001b[0;34m,\u001b[0m \u001b[0mdtype\u001b[0m\u001b[0;34m=\u001b[0m\u001b[0mdtype\u001b[0m\u001b[0;34m,\u001b[0m \u001b[0mcopy\u001b[0m\u001b[0;34m=\u001b[0m\u001b[0mcopy\u001b[0m\u001b[0;34m)\u001b[0m\u001b[0;34m\u001b[0m\u001b[0;34m\u001b[0m\u001b[0m\n\u001b[0m\u001b[1;32m    611\u001b[0m \u001b[0;34m\u001b[0m\u001b[0m\n",
            "\u001b[0;31mTypeError\u001b[0m: float() argument must be a string or a real number, not 'pandas._libs.interval.Interval'",
            "\nThe above exception was the direct cause of the following exception:\n",
            "\u001b[0;31mTypeError\u001b[0m                                 Traceback (most recent call last)",
            "\u001b[0;32m/usr/local/lib/python3.10/dist-packages/pandas/core/arrays/categorical.py\u001b[0m in \u001b[0;36mastype\u001b[0;34m(self, dtype, copy)\u001b[0m\n\u001b[1;32m    550\u001b[0m             \u001b[0;32mtry\u001b[0m\u001b[0;34m:\u001b[0m\u001b[0;34m\u001b[0m\u001b[0;34m\u001b[0m\u001b[0m\n\u001b[0;32m--> 551\u001b[0;31m                 \u001b[0mnew_cats\u001b[0m \u001b[0;34m=\u001b[0m \u001b[0mnew_cats\u001b[0m\u001b[0;34m.\u001b[0m\u001b[0mastype\u001b[0m\u001b[0;34m(\u001b[0m\u001b[0mdtype\u001b[0m\u001b[0;34m=\u001b[0m\u001b[0mdtype\u001b[0m\u001b[0;34m,\u001b[0m \u001b[0mcopy\u001b[0m\u001b[0;34m=\u001b[0m\u001b[0mcopy\u001b[0m\u001b[0;34m)\u001b[0m\u001b[0;34m\u001b[0m\u001b[0;34m\u001b[0m\u001b[0m\n\u001b[0m\u001b[1;32m    552\u001b[0m                 \u001b[0mfill_value\u001b[0m \u001b[0;34m=\u001b[0m \u001b[0mself\u001b[0m\u001b[0;34m.\u001b[0m\u001b[0mcategories\u001b[0m\u001b[0;34m.\u001b[0m\u001b[0m_na_value\u001b[0m\u001b[0;34m\u001b[0m\u001b[0;34m\u001b[0m\u001b[0m\n",
            "\u001b[0;32m/usr/local/lib/python3.10/dist-packages/pandas/core/arrays/interval.py\u001b[0m in \u001b[0;36mastype\u001b[0;34m(self, dtype, copy)\u001b[0m\n\u001b[1;32m    944\u001b[0m                 \u001b[0mmsg\u001b[0m \u001b[0;34m=\u001b[0m \u001b[0;34mf\"Cannot cast {type(self).__name__} to dtype {dtype}\"\u001b[0m\u001b[0;34m\u001b[0m\u001b[0;34m\u001b[0m\u001b[0m\n\u001b[0;32m--> 945\u001b[0;31m                 \u001b[0;32mraise\u001b[0m \u001b[0mTypeError\u001b[0m\u001b[0;34m(\u001b[0m\u001b[0mmsg\u001b[0m\u001b[0;34m)\u001b[0m \u001b[0;32mfrom\u001b[0m \u001b[0merr\u001b[0m\u001b[0;34m\u001b[0m\u001b[0;34m\u001b[0m\u001b[0m\n\u001b[0m\u001b[1;32m    946\u001b[0m \u001b[0;34m\u001b[0m\u001b[0m\n",
            "\u001b[0;31mTypeError\u001b[0m: Cannot cast IntervalArray to dtype float32",
            "\nDuring handling of the above exception, another exception occurred:\n",
            "\u001b[0;31mValueError\u001b[0m                                Traceback (most recent call last)",
            "\u001b[0;32m<ipython-input-25-933da2183eba>\u001b[0m in \u001b[0;36m<cell line: 6>\u001b[0;34m()\u001b[0m\n\u001b[1;32m      4\u001b[0m \u001b[0;31m# Train a Random Forest classifier with 50 estimators\u001b[0m\u001b[0;34m\u001b[0m\u001b[0;34m\u001b[0m\u001b[0m\n\u001b[1;32m      5\u001b[0m \u001b[0mrf\u001b[0m \u001b[0;34m=\u001b[0m \u001b[0mRandomForestClassifier\u001b[0m\u001b[0;34m(\u001b[0m\u001b[0mn_estimators\u001b[0m\u001b[0;34m=\u001b[0m\u001b[0;36m150\u001b[0m\u001b[0;34m,\u001b[0m \u001b[0mrandom_state\u001b[0m\u001b[0;34m=\u001b[0m\u001b[0;36m42\u001b[0m\u001b[0;34m)\u001b[0m\u001b[0;34m\u001b[0m\u001b[0;34m\u001b[0m\u001b[0m\n\u001b[0;32m----> 6\u001b[0;31m \u001b[0mrf\u001b[0m\u001b[0;34m.\u001b[0m\u001b[0mfit\u001b[0m\u001b[0;34m(\u001b[0m\u001b[0mtrain_df\u001b[0m\u001b[0;34m[\u001b[0m\u001b[0mfeatues_list\u001b[0m\u001b[0;34m]\u001b[0m\u001b[0;34m,\u001b[0m \u001b[0mtrain_df\u001b[0m\u001b[0;34m[\u001b[0m\u001b[0;34m\"above_90\"\u001b[0m\u001b[0;34m]\u001b[0m\u001b[0;34m.\u001b[0m\u001b[0mvalues\u001b[0m\u001b[0;34m)\u001b[0m\u001b[0;34m\u001b[0m\u001b[0;34m\u001b[0m\u001b[0m\n\u001b[0m\u001b[1;32m      7\u001b[0m \u001b[0;34m\u001b[0m\u001b[0m\n\u001b[1;32m      8\u001b[0m \u001b[0;31m# Predict the target variable on the test set\u001b[0m\u001b[0;34m\u001b[0m\u001b[0;34m\u001b[0m\u001b[0m\n",
            "\u001b[0;32m/usr/local/lib/python3.10/dist-packages/sklearn/ensemble/_forest.py\u001b[0m in \u001b[0;36mfit\u001b[0;34m(self, X, y, sample_weight)\u001b[0m\n\u001b[1;32m    343\u001b[0m         \u001b[0;32mif\u001b[0m \u001b[0missparse\u001b[0m\u001b[0;34m(\u001b[0m\u001b[0my\u001b[0m\u001b[0;34m)\u001b[0m\u001b[0;34m:\u001b[0m\u001b[0;34m\u001b[0m\u001b[0;34m\u001b[0m\u001b[0m\n\u001b[1;32m    344\u001b[0m             \u001b[0;32mraise\u001b[0m \u001b[0mValueError\u001b[0m\u001b[0;34m(\u001b[0m\u001b[0;34m\"sparse multilabel-indicator for y is not supported.\"\u001b[0m\u001b[0;34m)\u001b[0m\u001b[0;34m\u001b[0m\u001b[0;34m\u001b[0m\u001b[0m\n\u001b[0;32m--> 345\u001b[0;31m         X, y = self._validate_data(\n\u001b[0m\u001b[1;32m    346\u001b[0m             \u001b[0mX\u001b[0m\u001b[0;34m,\u001b[0m \u001b[0my\u001b[0m\u001b[0;34m,\u001b[0m \u001b[0mmulti_output\u001b[0m\u001b[0;34m=\u001b[0m\u001b[0;32mTrue\u001b[0m\u001b[0;34m,\u001b[0m \u001b[0maccept_sparse\u001b[0m\u001b[0;34m=\u001b[0m\u001b[0;34m\"csc\"\u001b[0m\u001b[0;34m,\u001b[0m \u001b[0mdtype\u001b[0m\u001b[0;34m=\u001b[0m\u001b[0mDTYPE\u001b[0m\u001b[0;34m\u001b[0m\u001b[0;34m\u001b[0m\u001b[0m\n\u001b[1;32m    347\u001b[0m         )\n",
            "\u001b[0;32m/usr/local/lib/python3.10/dist-packages/sklearn/base.py\u001b[0m in \u001b[0;36m_validate_data\u001b[0;34m(self, X, y, reset, validate_separately, **check_params)\u001b[0m\n\u001b[1;32m    582\u001b[0m                 \u001b[0my\u001b[0m \u001b[0;34m=\u001b[0m \u001b[0mcheck_array\u001b[0m\u001b[0;34m(\u001b[0m\u001b[0my\u001b[0m\u001b[0;34m,\u001b[0m \u001b[0minput_name\u001b[0m\u001b[0;34m=\u001b[0m\u001b[0;34m\"y\"\u001b[0m\u001b[0;34m,\u001b[0m \u001b[0;34m**\u001b[0m\u001b[0mcheck_y_params\u001b[0m\u001b[0;34m)\u001b[0m\u001b[0;34m\u001b[0m\u001b[0;34m\u001b[0m\u001b[0m\n\u001b[1;32m    583\u001b[0m             \u001b[0;32melse\u001b[0m\u001b[0;34m:\u001b[0m\u001b[0;34m\u001b[0m\u001b[0;34m\u001b[0m\u001b[0m\n\u001b[0;32m--> 584\u001b[0;31m                 \u001b[0mX\u001b[0m\u001b[0;34m,\u001b[0m \u001b[0my\u001b[0m \u001b[0;34m=\u001b[0m \u001b[0mcheck_X_y\u001b[0m\u001b[0;34m(\u001b[0m\u001b[0mX\u001b[0m\u001b[0;34m,\u001b[0m \u001b[0my\u001b[0m\u001b[0;34m,\u001b[0m \u001b[0;34m**\u001b[0m\u001b[0mcheck_params\u001b[0m\u001b[0;34m)\u001b[0m\u001b[0;34m\u001b[0m\u001b[0;34m\u001b[0m\u001b[0m\n\u001b[0m\u001b[1;32m    585\u001b[0m             \u001b[0mout\u001b[0m \u001b[0;34m=\u001b[0m \u001b[0mX\u001b[0m\u001b[0;34m,\u001b[0m \u001b[0my\u001b[0m\u001b[0;34m\u001b[0m\u001b[0;34m\u001b[0m\u001b[0m\n\u001b[1;32m    586\u001b[0m \u001b[0;34m\u001b[0m\u001b[0m\n",
            "\u001b[0;32m/usr/local/lib/python3.10/dist-packages/sklearn/utils/validation.py\u001b[0m in \u001b[0;36mcheck_X_y\u001b[0;34m(X, y, accept_sparse, accept_large_sparse, dtype, order, copy, force_all_finite, ensure_2d, allow_nd, multi_output, ensure_min_samples, ensure_min_features, y_numeric, estimator)\u001b[0m\n\u001b[1;32m   1104\u001b[0m         )\n\u001b[1;32m   1105\u001b[0m \u001b[0;34m\u001b[0m\u001b[0m\n\u001b[0;32m-> 1106\u001b[0;31m     X = check_array(\n\u001b[0m\u001b[1;32m   1107\u001b[0m         \u001b[0mX\u001b[0m\u001b[0;34m,\u001b[0m\u001b[0;34m\u001b[0m\u001b[0;34m\u001b[0m\u001b[0m\n\u001b[1;32m   1108\u001b[0m         \u001b[0maccept_sparse\u001b[0m\u001b[0;34m=\u001b[0m\u001b[0maccept_sparse\u001b[0m\u001b[0;34m,\u001b[0m\u001b[0;34m\u001b[0m\u001b[0;34m\u001b[0m\u001b[0m\n",
            "\u001b[0;32m/usr/local/lib/python3.10/dist-packages/sklearn/utils/validation.py\u001b[0m in \u001b[0;36mcheck_array\u001b[0;34m(array, accept_sparse, accept_large_sparse, dtype, order, copy, force_all_finite, ensure_2d, allow_nd, ensure_min_samples, ensure_min_features, estimator, input_name)\u001b[0m\n\u001b[1;32m    808\u001b[0m         \u001b[0;31m# Use the original dtype for conversion if dtype is None\u001b[0m\u001b[0;34m\u001b[0m\u001b[0;34m\u001b[0m\u001b[0m\n\u001b[1;32m    809\u001b[0m         \u001b[0mnew_dtype\u001b[0m \u001b[0;34m=\u001b[0m \u001b[0mdtype_orig\u001b[0m \u001b[0;32mif\u001b[0m \u001b[0mdtype\u001b[0m \u001b[0;32mis\u001b[0m \u001b[0;32mNone\u001b[0m \u001b[0;32melse\u001b[0m \u001b[0mdtype\u001b[0m\u001b[0;34m\u001b[0m\u001b[0;34m\u001b[0m\u001b[0m\n\u001b[0;32m--> 810\u001b[0;31m         \u001b[0marray\u001b[0m \u001b[0;34m=\u001b[0m \u001b[0marray\u001b[0m\u001b[0;34m.\u001b[0m\u001b[0mastype\u001b[0m\u001b[0;34m(\u001b[0m\u001b[0mnew_dtype\u001b[0m\u001b[0;34m)\u001b[0m\u001b[0;34m\u001b[0m\u001b[0;34m\u001b[0m\u001b[0m\n\u001b[0m\u001b[1;32m    811\u001b[0m         \u001b[0;31m# Since we converted here, we do not need to convert again later\u001b[0m\u001b[0;34m\u001b[0m\u001b[0;34m\u001b[0m\u001b[0m\n\u001b[1;32m    812\u001b[0m         \u001b[0mdtype\u001b[0m \u001b[0;34m=\u001b[0m \u001b[0;32mNone\u001b[0m\u001b[0;34m\u001b[0m\u001b[0;34m\u001b[0m\u001b[0m\n",
            "\u001b[0;32m/usr/local/lib/python3.10/dist-packages/pandas/core/generic.py\u001b[0m in \u001b[0;36mastype\u001b[0;34m(self, dtype, copy, errors)\u001b[0m\n\u001b[1;32m   6238\u001b[0m         \u001b[0;32melse\u001b[0m\u001b[0;34m:\u001b[0m\u001b[0;34m\u001b[0m\u001b[0;34m\u001b[0m\u001b[0m\n\u001b[1;32m   6239\u001b[0m             \u001b[0;31m# else, only a single dtype is given\u001b[0m\u001b[0;34m\u001b[0m\u001b[0;34m\u001b[0m\u001b[0m\n\u001b[0;32m-> 6240\u001b[0;31m             \u001b[0mnew_data\u001b[0m \u001b[0;34m=\u001b[0m \u001b[0mself\u001b[0m\u001b[0;34m.\u001b[0m\u001b[0m_mgr\u001b[0m\u001b[0;34m.\u001b[0m\u001b[0mastype\u001b[0m\u001b[0;34m(\u001b[0m\u001b[0mdtype\u001b[0m\u001b[0;34m=\u001b[0m\u001b[0mdtype\u001b[0m\u001b[0;34m,\u001b[0m \u001b[0mcopy\u001b[0m\u001b[0;34m=\u001b[0m\u001b[0mcopy\u001b[0m\u001b[0;34m,\u001b[0m \u001b[0merrors\u001b[0m\u001b[0;34m=\u001b[0m\u001b[0merrors\u001b[0m\u001b[0;34m)\u001b[0m\u001b[0;34m\u001b[0m\u001b[0;34m\u001b[0m\u001b[0m\n\u001b[0m\u001b[1;32m   6241\u001b[0m             \u001b[0;32mreturn\u001b[0m \u001b[0mself\u001b[0m\u001b[0;34m.\u001b[0m\u001b[0m_constructor\u001b[0m\u001b[0;34m(\u001b[0m\u001b[0mnew_data\u001b[0m\u001b[0;34m)\u001b[0m\u001b[0;34m.\u001b[0m\u001b[0m__finalize__\u001b[0m\u001b[0;34m(\u001b[0m\u001b[0mself\u001b[0m\u001b[0;34m,\u001b[0m \u001b[0mmethod\u001b[0m\u001b[0;34m=\u001b[0m\u001b[0;34m\"astype\"\u001b[0m\u001b[0;34m)\u001b[0m\u001b[0;34m\u001b[0m\u001b[0;34m\u001b[0m\u001b[0m\n\u001b[1;32m   6242\u001b[0m \u001b[0;34m\u001b[0m\u001b[0m\n",
            "\u001b[0;32m/usr/local/lib/python3.10/dist-packages/pandas/core/internals/managers.py\u001b[0m in \u001b[0;36mastype\u001b[0;34m(self, dtype, copy, errors)\u001b[0m\n\u001b[1;32m    446\u001b[0m \u001b[0;34m\u001b[0m\u001b[0m\n\u001b[1;32m    447\u001b[0m     \u001b[0;32mdef\u001b[0m \u001b[0mastype\u001b[0m\u001b[0;34m(\u001b[0m\u001b[0mself\u001b[0m\u001b[0;34m:\u001b[0m \u001b[0mT\u001b[0m\u001b[0;34m,\u001b[0m \u001b[0mdtype\u001b[0m\u001b[0;34m,\u001b[0m \u001b[0mcopy\u001b[0m\u001b[0;34m:\u001b[0m \u001b[0mbool\u001b[0m \u001b[0;34m=\u001b[0m \u001b[0;32mFalse\u001b[0m\u001b[0;34m,\u001b[0m \u001b[0merrors\u001b[0m\u001b[0;34m:\u001b[0m \u001b[0mstr\u001b[0m \u001b[0;34m=\u001b[0m \u001b[0;34m\"raise\"\u001b[0m\u001b[0;34m)\u001b[0m \u001b[0;34m->\u001b[0m \u001b[0mT\u001b[0m\u001b[0;34m:\u001b[0m\u001b[0;34m\u001b[0m\u001b[0;34m\u001b[0m\u001b[0m\n\u001b[0;32m--> 448\u001b[0;31m         \u001b[0;32mreturn\u001b[0m \u001b[0mself\u001b[0m\u001b[0;34m.\u001b[0m\u001b[0mapply\u001b[0m\u001b[0;34m(\u001b[0m\u001b[0;34m\"astype\"\u001b[0m\u001b[0;34m,\u001b[0m \u001b[0mdtype\u001b[0m\u001b[0;34m=\u001b[0m\u001b[0mdtype\u001b[0m\u001b[0;34m,\u001b[0m \u001b[0mcopy\u001b[0m\u001b[0;34m=\u001b[0m\u001b[0mcopy\u001b[0m\u001b[0;34m,\u001b[0m \u001b[0merrors\u001b[0m\u001b[0;34m=\u001b[0m\u001b[0merrors\u001b[0m\u001b[0;34m)\u001b[0m\u001b[0;34m\u001b[0m\u001b[0;34m\u001b[0m\u001b[0m\n\u001b[0m\u001b[1;32m    449\u001b[0m \u001b[0;34m\u001b[0m\u001b[0m\n\u001b[1;32m    450\u001b[0m     def convert(\n",
            "\u001b[0;32m/usr/local/lib/python3.10/dist-packages/pandas/core/internals/managers.py\u001b[0m in \u001b[0;36mapply\u001b[0;34m(self, f, align_keys, ignore_failures, **kwargs)\u001b[0m\n\u001b[1;32m    350\u001b[0m                     \u001b[0mapplied\u001b[0m \u001b[0;34m=\u001b[0m \u001b[0mb\u001b[0m\u001b[0;34m.\u001b[0m\u001b[0mapply\u001b[0m\u001b[0;34m(\u001b[0m\u001b[0mf\u001b[0m\u001b[0;34m,\u001b[0m \u001b[0;34m**\u001b[0m\u001b[0mkwargs\u001b[0m\u001b[0;34m)\u001b[0m\u001b[0;34m\u001b[0m\u001b[0;34m\u001b[0m\u001b[0m\n\u001b[1;32m    351\u001b[0m                 \u001b[0;32melse\u001b[0m\u001b[0;34m:\u001b[0m\u001b[0;34m\u001b[0m\u001b[0;34m\u001b[0m\u001b[0m\n\u001b[0;32m--> 352\u001b[0;31m                     \u001b[0mapplied\u001b[0m \u001b[0;34m=\u001b[0m \u001b[0mgetattr\u001b[0m\u001b[0;34m(\u001b[0m\u001b[0mb\u001b[0m\u001b[0;34m,\u001b[0m \u001b[0mf\u001b[0m\u001b[0;34m)\u001b[0m\u001b[0;34m(\u001b[0m\u001b[0;34m**\u001b[0m\u001b[0mkwargs\u001b[0m\u001b[0;34m)\u001b[0m\u001b[0;34m\u001b[0m\u001b[0;34m\u001b[0m\u001b[0m\n\u001b[0m\u001b[1;32m    353\u001b[0m             \u001b[0;32mexcept\u001b[0m \u001b[0;34m(\u001b[0m\u001b[0mTypeError\u001b[0m\u001b[0;34m,\u001b[0m \u001b[0mNotImplementedError\u001b[0m\u001b[0;34m)\u001b[0m\u001b[0;34m:\u001b[0m\u001b[0;34m\u001b[0m\u001b[0;34m\u001b[0m\u001b[0m\n\u001b[1;32m    354\u001b[0m                 \u001b[0;32mif\u001b[0m \u001b[0;32mnot\u001b[0m \u001b[0mignore_failures\u001b[0m\u001b[0;34m:\u001b[0m\u001b[0;34m\u001b[0m\u001b[0;34m\u001b[0m\u001b[0m\n",
            "\u001b[0;32m/usr/local/lib/python3.10/dist-packages/pandas/core/internals/blocks.py\u001b[0m in \u001b[0;36mastype\u001b[0;34m(self, dtype, copy, errors)\u001b[0m\n\u001b[1;32m    524\u001b[0m         \u001b[0mvalues\u001b[0m \u001b[0;34m=\u001b[0m \u001b[0mself\u001b[0m\u001b[0;34m.\u001b[0m\u001b[0mvalues\u001b[0m\u001b[0;34m\u001b[0m\u001b[0;34m\u001b[0m\u001b[0m\n\u001b[1;32m    525\u001b[0m \u001b[0;34m\u001b[0m\u001b[0m\n\u001b[0;32m--> 526\u001b[0;31m         \u001b[0mnew_values\u001b[0m \u001b[0;34m=\u001b[0m \u001b[0mastype_array_safe\u001b[0m\u001b[0;34m(\u001b[0m\u001b[0mvalues\u001b[0m\u001b[0;34m,\u001b[0m \u001b[0mdtype\u001b[0m\u001b[0;34m,\u001b[0m \u001b[0mcopy\u001b[0m\u001b[0;34m=\u001b[0m\u001b[0mcopy\u001b[0m\u001b[0;34m,\u001b[0m \u001b[0merrors\u001b[0m\u001b[0;34m=\u001b[0m\u001b[0merrors\u001b[0m\u001b[0;34m)\u001b[0m\u001b[0;34m\u001b[0m\u001b[0;34m\u001b[0m\u001b[0m\n\u001b[0m\u001b[1;32m    527\u001b[0m \u001b[0;34m\u001b[0m\u001b[0m\n\u001b[1;32m    528\u001b[0m         \u001b[0mnew_values\u001b[0m \u001b[0;34m=\u001b[0m \u001b[0mmaybe_coerce_values\u001b[0m\u001b[0;34m(\u001b[0m\u001b[0mnew_values\u001b[0m\u001b[0;34m)\u001b[0m\u001b[0;34m\u001b[0m\u001b[0;34m\u001b[0m\u001b[0m\n",
            "\u001b[0;32m/usr/local/lib/python3.10/dist-packages/pandas/core/dtypes/astype.py\u001b[0m in \u001b[0;36mastype_array_safe\u001b[0;34m(values, dtype, copy, errors)\u001b[0m\n\u001b[1;32m    297\u001b[0m \u001b[0;34m\u001b[0m\u001b[0m\n\u001b[1;32m    298\u001b[0m     \u001b[0;32mtry\u001b[0m\u001b[0;34m:\u001b[0m\u001b[0;34m\u001b[0m\u001b[0;34m\u001b[0m\u001b[0m\n\u001b[0;32m--> 299\u001b[0;31m         \u001b[0mnew_values\u001b[0m \u001b[0;34m=\u001b[0m \u001b[0mastype_array\u001b[0m\u001b[0;34m(\u001b[0m\u001b[0mvalues\u001b[0m\u001b[0;34m,\u001b[0m \u001b[0mdtype\u001b[0m\u001b[0;34m,\u001b[0m \u001b[0mcopy\u001b[0m\u001b[0;34m=\u001b[0m\u001b[0mcopy\u001b[0m\u001b[0;34m)\u001b[0m\u001b[0;34m\u001b[0m\u001b[0;34m\u001b[0m\u001b[0m\n\u001b[0m\u001b[1;32m    300\u001b[0m     \u001b[0;32mexcept\u001b[0m \u001b[0;34m(\u001b[0m\u001b[0mValueError\u001b[0m\u001b[0;34m,\u001b[0m \u001b[0mTypeError\u001b[0m\u001b[0;34m)\u001b[0m\u001b[0;34m:\u001b[0m\u001b[0;34m\u001b[0m\u001b[0;34m\u001b[0m\u001b[0m\n\u001b[1;32m    301\u001b[0m         \u001b[0;31m# e.g. astype_nansafe can fail on object-dtype of strings\u001b[0m\u001b[0;34m\u001b[0m\u001b[0;34m\u001b[0m\u001b[0m\n",
            "\u001b[0;32m/usr/local/lib/python3.10/dist-packages/pandas/core/dtypes/astype.py\u001b[0m in \u001b[0;36mastype_array\u001b[0;34m(values, dtype, copy)\u001b[0m\n\u001b[1;32m    225\u001b[0m     \u001b[0;32mif\u001b[0m \u001b[0;32mnot\u001b[0m \u001b[0misinstance\u001b[0m\u001b[0;34m(\u001b[0m\u001b[0mvalues\u001b[0m\u001b[0;34m,\u001b[0m \u001b[0mnp\u001b[0m\u001b[0;34m.\u001b[0m\u001b[0mndarray\u001b[0m\u001b[0;34m)\u001b[0m\u001b[0;34m:\u001b[0m\u001b[0;34m\u001b[0m\u001b[0;34m\u001b[0m\u001b[0m\n\u001b[1;32m    226\u001b[0m         \u001b[0;31m# i.e. ExtensionArray\u001b[0m\u001b[0;34m\u001b[0m\u001b[0;34m\u001b[0m\u001b[0m\n\u001b[0;32m--> 227\u001b[0;31m         \u001b[0mvalues\u001b[0m \u001b[0;34m=\u001b[0m \u001b[0mvalues\u001b[0m\u001b[0;34m.\u001b[0m\u001b[0mastype\u001b[0m\u001b[0;34m(\u001b[0m\u001b[0mdtype\u001b[0m\u001b[0;34m,\u001b[0m \u001b[0mcopy\u001b[0m\u001b[0;34m=\u001b[0m\u001b[0mcopy\u001b[0m\u001b[0;34m)\u001b[0m\u001b[0;34m\u001b[0m\u001b[0;34m\u001b[0m\u001b[0m\n\u001b[0m\u001b[1;32m    228\u001b[0m \u001b[0;34m\u001b[0m\u001b[0m\n\u001b[1;32m    229\u001b[0m     \u001b[0;32melse\u001b[0m\u001b[0;34m:\u001b[0m\u001b[0;34m\u001b[0m\u001b[0;34m\u001b[0m\u001b[0m\n",
            "\u001b[0;32m/usr/local/lib/python3.10/dist-packages/pandas/core/arrays/categorical.py\u001b[0m in \u001b[0;36mastype\u001b[0;34m(self, dtype, copy)\u001b[0m\n\u001b[1;32m    560\u001b[0m             ):\n\u001b[1;32m    561\u001b[0m                 \u001b[0mmsg\u001b[0m \u001b[0;34m=\u001b[0m \u001b[0;34mf\"Cannot cast {self.categories.dtype} dtype to {dtype}\"\u001b[0m\u001b[0;34m\u001b[0m\u001b[0;34m\u001b[0m\u001b[0m\n\u001b[0;32m--> 562\u001b[0;31m                 \u001b[0;32mraise\u001b[0m \u001b[0mValueError\u001b[0m\u001b[0;34m(\u001b[0m\u001b[0mmsg\u001b[0m\u001b[0;34m)\u001b[0m\u001b[0;34m\u001b[0m\u001b[0;34m\u001b[0m\u001b[0m\n\u001b[0m\u001b[1;32m    563\u001b[0m \u001b[0;34m\u001b[0m\u001b[0m\n\u001b[1;32m    564\u001b[0m             result = take_nd(\n",
            "\u001b[0;31mValueError\u001b[0m: Cannot cast interval[float64, right] dtype to float32"
          ]
        }
      ]
    },
    {
      "cell_type": "markdown",
      "source": [
        "with cross validation"
      ],
      "metadata": {
        "id": "RETKEOEhi3DA"
      }
    },
    {
      "cell_type": "code",
      "source": [
        "from sklearn.model_selection import cross_val_score\n",
        "\n",
        "# Define the list of features to use in the model\n",
        "features_list = ['Country_lab', 'Country_bir_e', 'Personal_situation_e', 'age_in_enter_e', 'Visa_Type_e', 'refugee_e', 'month', 'GDP_e', 'HDI_e', 'Security_threat_index_e', 'Quality_of_Democracy_e', 'Density_e']\n",
        "#['Country_lab', 'country_bir_eq_to_pass', 'Country_bir_e', 'Personal_situation_e', 'age_in_enter_e', 'Visa_Type_e', 'refugee_e', 'month', 'Visa_requirement_e', 'GDP_e', 'HDI_e', 'Security_threat_index_e', 'Quality_of_Democracy_e', 'continent_e', 'Density_e']\n",
        "\n",
        "#'Country_lab', 'country_bir_eq_to_pass', 'Country_bir_e', 'Personal_situation_e', 'age_in_enter_e', 'Visa_Type_e', 'refugee_e', 'month', 'Visa_requirement_e', 'GDP_e', 'HDI_e', 'Security_threat_index_e', 'Quality_of_Democracy_e', 'continent_e', 'Density_e']\n",
        "#'Disaster_e',  'Gender_e',\n",
        "\n",
        "# Train a Random Forest classifier with 150 estimators\n",
        "rf = RandomForestClassifier(n_estimators=150, random_state=42)\n",
        "\n",
        "# Perform cross-validation\n",
        "cv_scores = cross_val_score(rf, train_df[features_list], train_df[\"above_90\"].values, cv=5, scoring='accuracy')\n",
        "\n",
        "# Print the cross-validation scores\n",
        "print(\"Cross-Validation Scores:\")\n",
        "print(cv_scores)\n",
        "print(\"Mean CV Accuracy: \", cv_scores.mean())\n",
        "\n",
        "# Fit the model on the entire training set\n",
        "rf.fit(train_df[features_list], train_df[\"above_90\"].values)\n",
        "\n",
        "# Predict the target variable on the test set\n",
        "prob_predictions = rf.predict_proba(test_df[features_list])\n",
        "threshold_predictions = np.where(prob_predictions[:, 1] > 0.3, 1, 0)\n",
        "\n",
        "# Compute the accuracy and recall scores\n",
        "accuracy = accuracy_score(test_df[\"above_90\"].values, threshold_predictions)\n",
        "recall = recall_score(test_df[\"above_90\"].values, threshold_predictions)\n",
        "\n",
        "# Calculate the confusion matrix\n",
        "cm = confusion_matrix(test_df[\"above_90\"].values, threshold_predictions)\n",
        "\n",
        "# Print the confusion matrix\n",
        "print(\"Confusion Matrix:\")\n",
        "print(cm)\n",
        "\n",
        "# Print the scores\n",
        "print(f\"Accuracy: {accuracy}\")\n",
        "print(f\"Recall: {recall}\")\n"
      ],
      "metadata": {
        "colab": {
          "base_uri": "https://localhost:8080/"
        },
        "id": "4pl44QSXhUsM",
        "outputId": "c82d3269-7411-4042-8b15-9b1bdd206953"
      },
      "execution_count": null,
      "outputs": [
        {
          "output_type": "stream",
          "name": "stdout",
          "text": [
            "Cross-Validation Scores:\n",
            "[0.81010355 0.81268242 0.81384191 0.80940005 0.80708103]\n",
            "Mean CV Accuracy:  0.8106217923356841\n",
            "Confusion Matrix:\n",
            "[[38507 17770]\n",
            " [  784  5469]]\n",
            "Accuracy: 0.7032784263553494\n",
            "Recall: 0.8746201823124901\n"
          ]
        }
      ]
    },
    {
      "cell_type": "markdown",
      "source": [
        "#Receiving the importance of eche feathre\n"
      ],
      "metadata": {
        "id": "46OHlgfkeOzS"
      }
    },
    {
      "cell_type": "code",
      "source": [
        "importances = rf.feature_importances_\n",
        "\n",
        "# Create a dictionary mapping feature names to their importances\n",
        "feature_importance_dict = dict(zip(featues_list, importances))\n",
        "\n",
        "# Print the feature importances\n",
        "for feature, importance in feature_importance_dict.items():\n",
        "    print(f\"{feature}: {importance}\")"
      ],
      "metadata": {
        "id": "HXctHIDJea9N",
        "colab": {
          "base_uri": "https://localhost:8080/"
        },
        "outputId": "18f9146a-930d-4c1a-8475-09a1698825ee"
      },
      "execution_count": null,
      "outputs": [
        {
          "output_type": "stream",
          "name": "stdout",
          "text": [
            "Country_lab: 0.027753512718639746\n",
            "country_bir_eq_to_pass: 0.021258773731726667\n",
            "Country_bir_e: 0.19269386583807815\n",
            "Personal_situation_e: 0.0417985296391306\n",
            "age_in_enter_e: 0.054923079805692894\n",
            "Visa_Type_e: 0.06958445033027426\n",
            "refugee_e: 0.2623821341411594\n",
            "month: 0.06692420979088574\n",
            "Visa_requirement_e: 0.009760708136613441\n",
            "GDP_e: 0.08919675952631315\n",
            "HDI_e: 0.022301028585847937\n",
            "Security_threat_index_e: 0.0483461935508502\n",
            "Quality_of_Democracy_e: 0.050794159422091624\n",
            "continent_e: 0.01767197242513335\n",
            "Density_e: 0.024610622357563006\n"
          ]
        }
      ]
    },
    {
      "cell_type": "code",
      "source": [
        "import matplotlib.pyplot as plt\n",
        "\n",
        "importances = rf.feature_importances_\n",
        "\n",
        "# Create a dictionary mapping feature names to their importances\n",
        "feature_importance_dict = dict(zip(featues_list, importances))\n",
        "\n",
        "# Sort the feature importances in descending order\n",
        "sorted_importances = sorted(feature_importance_dict.items(), key=lambda x: x[1], reverse=True)\n",
        "\n",
        "# Extract the feature names and importances for plotting\n",
        "features, importances = zip(*sorted_importances)\n",
        "\n",
        "# Create a horizontal bar plot\n",
        "plt.barh(range(len(features)), importances)\n",
        "plt.yticks(range(len(features)), features)\n",
        "plt.xlabel(\"Feature Importance\")\n",
        "plt.ylabel(\"Feature\")\n",
        "plt.title(\"Feature Importances\")\n",
        "\n",
        "# Add numerical values on each bar\n",
        "for i, v in enumerate(importances):\n",
        "    plt.text(v + 0.01, i, str(round(v, 4)), color='blue')\n",
        "\n",
        "# Display the plot\n",
        "plt.show()\n"
      ],
      "metadata": {
        "colab": {
          "base_uri": "https://localhost:8080/",
          "height": 472
        },
        "id": "I-OhZlkAfCrV",
        "outputId": "86f9c204-581c-4050-f2ae-29fc18502974"
      },
      "execution_count": null,
      "outputs": [
        {
          "output_type": "display_data",
          "data": {
            "text/plain": [
              "<Figure size 640x480 with 1 Axes>"
            ],
            "image/png": "[encoded data removed]"
          },
          "metadata": {}
        }
      ]
    }
  ]
}